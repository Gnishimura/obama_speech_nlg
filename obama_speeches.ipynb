{
 "cells": [
  {
   "cell_type": "code",
   "execution_count": 1,
   "metadata": {
    "collapsed": true
   },
   "outputs": [],
   "source": [
    "from pymongo import MongoClient\n",
    "import requests\n",
    "import time\n",
    "import random\n",
    "from bs4 import BeautifulSoup\n",
    "import re\n",
    "import pandas as pd\n",
    "import numpy as np"
   ]
  },
  {
   "cell_type": "markdown",
   "metadata": {},
   "source": [
    "### initialize BeautifulSoup"
   ]
  },
  {
   "cell_type": "code",
   "execution_count": 2,
   "metadata": {
    "collapsed": true
   },
   "outputs": [],
   "source": [
    "website = \"http://www.americanrhetoric.com/barackobamaspeeches.htm\"\n",
    "r = requests.get(website)\n",
    "page = BeautifulSoup(r.content, features='lxml')"
   ]
  },
  {
   "cell_type": "markdown",
   "metadata": {},
   "source": [
    "### get the urls"
   ]
  },
  {
   "cell_type": "code",
   "execution_count": 3,
   "metadata": {},
   "outputs": [
    {
     "name": "stdout",
     "output_type": "stream",
     "text": [
      "468\n"
     ]
    }
   ],
   "source": [
    "def filter_link(link):\n",
    "    href = link.get('href')\n",
    "    if href:\n",
    "        return href.startswith('speeches') and href.endswith('.htm')\n",
    "\n",
    "links = page.find_all('a')\n",
    "urls = filter(filter_link, links)\n",
    "urls = [url.get('href') for url in urls]\n",
    "print(len(urls))  #467 speeches in total\n",
    "\n",
    "def get_url(link):\n",
    "    pre = 'http://www.americanrhetoric.com/'\n",
    "    return pre + link\n",
    "\n",
    "full_urls = []\n",
    "for url in urls:\n",
    "    full_urls.append(get_url(url))"
   ]
  },
  {
   "cell_type": "markdown",
   "metadata": {},
   "source": [
    "### scrape pages for the page source"
   ]
  },
  {
   "cell_type": "code",
   "execution_count": 99,
   "metadata": {
    "collapsed": true
   },
   "outputs": [],
   "source": [
    "def scrape_ar(url):\n",
    "    \"\"\"Scrape pages at random 1-11 sec intervals\"\"\"\n",
    "    re = requests.get(url)\n",
    "    page_data = BeautifulSoup(re.content)\n",
    "    speech_data = page_data.find_all(\"font\", {\"face\": \"Verdana\"})\n",
    "    time.sleep(1 + random.random() * 10)\n",
    "    return speech_data\n",
    "\n",
    "def clean_speech(speech_data):\n",
    "    a = re.sub('<[^<]+?>', '', str(speech_data))\n",
    "    b = re.sub('\\r\\n\\t\\t', '', str(a))  \n",
    "    c = re.sub('\\.,', '.', str(b))\n",
    "    d = re.sub('\\r\\n', '', str(c))\n",
    "    e = re.sub('\\n', '', str(d))\n",
    "    f = re.sub('\\xa0', '', str(e))\n",
    "    h = re.sub('\\t', '', str(f))\n",
    "    i = str(h).replace('\\\\', '')\n",
    "    \n",
    "    return h"
   ]
  },
  {
   "cell_type": "code",
   "execution_count": 75,
   "metadata": {
    "collapsed": true
   },
   "outputs": [],
   "source": [
    "# def multiple_replace(dict, text):\n",
    "#     # Create an re from the dictionary keys\n",
    "#     regex = re.compile(\"{}\" % \"|\".join(map(re.escape, dict.keys())))\n",
    "    \n",
    "#     # For each match, look up corresponding value in dictionary\n",
    "    "
   ]
  },
  {
   "cell_type": "code",
   "execution_count": null,
   "metadata": {
    "collapsed": true
   },
   "outputs": [],
   "source": []
  },
  {
   "cell_type": "code",
   "execution_count": 76,
   "metadata": {},
   "outputs": [
    {
     "data": {
      "text/plain": [
       "\"hello, how aren't you?\""
      ]
     },
     "execution_count": 76,
     "metadata": {},
     "output_type": "execute_result"
    }
   ],
   "source": [
    "x.replace(\"\\\\\", \"\")"
   ]
  },
  {
   "cell_type": "code",
   "execution_count": null,
   "metadata": {
    "collapsed": true
   },
   "outputs": [],
   "source": []
  },
  {
   "cell_type": "code",
   "execution_count": null,
   "metadata": {
    "collapsed": true
   },
   "outputs": [],
   "source": []
  },
  {
   "cell_type": "markdown",
   "metadata": {},
   "source": [
    "### Initialize a MongoDB to save the speeches"
   ]
  },
  {
   "cell_type": "code",
   "execution_count": 2,
   "metadata": {
    "collapsed": true
   },
   "outputs": [],
   "source": [
    "obamongo = MongoClient()\n",
    "obama_db = obamongo['obama_db']\n",
    "speech_collection = obama_db['speeches']"
   ]
  },
  {
   "cell_type": "code",
   "execution_count": 84,
   "metadata": {
    "collapsed": true
   },
   "outputs": [],
   "source": [
    "def save_speech(url, speech_data):\n",
    "    name = url.split('/')[-1].split('.')[0]\n",
    "    speech_collection.delete_many({'name': name})\n",
    "    speech_collection.insert_one({'name': name, 'speech': speech_data})\n",
    "    # print('Saving {}...'.format(name))\n",
    "\n",
    "def compile_collection(full_urls):\n",
    "    for url in full_urls:\n",
    "        print(url)\n",
    "        speech_data = scrape_ar(url)\n",
    "        speech_text = clean_speech(speech_data)\n",
    "        save_speech(url, speech_data)"
   ]
  },
  {
   "cell_type": "code",
   "execution_count": 88,
   "metadata": {},
   "outputs": [
    {
     "name": "stdout",
     "output_type": "stream",
     "text": [
      "http://www.americanrhetoric.com/speeches/barackobama/barackobamairaqwarspeechfederalplaza.htm\n",
      "http://www.americanrhetoric.com/speeches/convention2004/barackobama2004dnc.htm\n",
      "http://www.americanrhetoric.com/speeches/barackobama/barackobamasenatespeechonohioelectoralvotes.htm\n",
      "http://www.americanrhetoric.com/speeches/barackobamaknoxcollege.htm\n",
      "http://www.americanrhetoric.com/speeches/barackobama/barackobamasenatespeechrosaparks.htm\n",
      "http://www.americanrhetoric.com/speeches/barackobama/barackobamasenatefloorspeechpatriotact.htm\n",
      "http://www.americanrhetoric.com/speeches/barackobama/barackobamasenatespeechoncorettascottkingpassing.htm\n",
      "http://www.americanrhetoric.com/speeches/barackobama/barackobamasenatespeechonvotingrightsactrenewal.htm\n",
      "http://www.americanrhetoric.com/speeches/barackobamaexploratory.htm\n",
      "http://www.americanrhetoric.com/speeches/barackobamacandidacyforpresident.htm\n",
      "http://www.americanrhetoric.com/speeches/barackobama/barackobamabrownchapel.htm\n",
      "http://www.americanrhetoric.com/speeches/barackobama/barackobamasenatespeechiraqfederalismamendment.htm\n",
      "http://www.americanrhetoric.com/speeches/barackobama/barackobamasenatefloorspeechoniraqwar4years.htm\n",
      "http://www.americanrhetoric.com/speeches/barackobama/barackobamasenatefloorimmigration.htm\n",
      "http://www.americanrhetoric.com/speeches/barackobamawilsoncenter.htm\n",
      "http://www.americanrhetoric.com/speeches/barackobama/barackobamajeffersonjacksondinner.htm\n",
      "http://www.americanrhetoric.com/speeches/barackobama/barackobamaiowavictoryspeech.htm\n",
      "http://www.americanrhetoric.com/speeches/barackobama/barackobamanewhampshireconcessionspeech.htm\n",
      "http://www.americanrhetoric.com/speeches/barackobama/barackobamaebenezerbaptist.htm\n",
      "http://www.americanrhetoric.com/speeches/barackobama/barackobamasouthcarolinavictory.htm\n",
      "http://www.americanrhetoric.com/speeches/barackobamaperfectunion.htm\n",
      "http://www.americanrhetoric.com/speeches/barackobamademocraticnominationvictoryspeech.htm\n",
      "http://www.americanrhetoric.com/speeches/barackobama/barackobamairaqwarreaganbuilding.htm\n",
      "http://www.americanrhetoric.com/speeches/barackobamaberlinspeech.htm\n",
      "http://www.americanrhetoric.com/speeches/convention2008/barackobama2008dnc.htm\n",
      "http://www.americanrhetoric.com/speeches/barackobama/barackobamasenatespeechonbailoutbill.htm\n",
      "http://www.americanrhetoric.com/speeches/convention2008/barackobamavictoryspeech.htm\n",
      "http://www.americanrhetoric.com/speeches/barackobama/barackobamafirstpressconference.htm\n",
      "http://www.americanrhetoric.com/speeches/barackobama/barackobamaweeklytransition1.htm\n",
      "http://www.americanrhetoric.com/speeches/barackobama/barackobamaweeklytransition2.htm\n",
      "http://www.americanrhetoric.com/speeches/barackobama/barackobamaglobalclimatesummit.htm\n",
      "http://www.americanrhetoric.com/speeches/barackobama/barackobamaweeklytransition3.htm\n",
      "http://www.americanrhetoric.com/speeches/barackobama/barackobamaeconomicteamannouncement.htm\n",
      "http://www.americanrhetoric.com/speeches/barackobama/barackobamamanagementandbudgetoffice.htm\n",
      "http://www.americanrhetoric.com/speeches/barackobama/barackobamamanagementandbudgetoffice.htm\n",
      "http://www.americanrhetoric.com/speeches/barackobama/barackobamaeconomicrecoveryadvisoryboard.htm\n",
      "http://www.americanrhetoric.com/speeches/barackobama/barackobamaweeklytransition4thanksgiving.htm\n",
      "http://www.americanrhetoric.com/speeches/barackobama/barackobamasecurityteamannouncement.htm\n",
      "http://www.americanrhetoric.com/speeches/barackobama/barackobamasecretarycommerce.htm\n",
      "http://www.americanrhetoric.com/speeches/barackobama/barackobamaweeklytransition5.htm\n",
      "http://www.americanrhetoric.com/speeches/barackobama/barackobamaweeklytransition6.htm\n",
      "http://www.americanrhetoric.com/speeches/barackobama/barackobamaweeklytransition7.htm\n",
      "http://www.americanrhetoric.com/speeches/barackobama/barackobamaweeklytransition8.htm\n",
      "http://www.americanrhetoric.com/speeches/barackobama/barackobamaweeklytransition9.htm\n",
      "http://www.americanrhetoric.com/speeches/barackobama/barackobamapresseconomicrecoverypressconference.htm\n",
      "http://www.americanrhetoric.com/speeches/barackobama/barackobamageorgemason.htm\n",
      "http://www.americanrhetoric.com/speeches/barackobama/barackobamamintelligenceteam.htm\n",
      "http://www.americanrhetoric.com/speeches/barackobama/barackobamaweeklytransition10.htm\n",
      "http://www.americanrhetoric.com/speeches/barackobama/barackobamaweeklytransition11.htm\n",
      "http://www.americanrhetoric.com/speeches/barackobama/barackobamapreinaugurallincolnmemorial.htm\n",
      "http://www.americanrhetoric.com/speeches/barackobama/barackobamainauguraladdress.htm\n",
      "http://www.americanrhetoric.com/speeches/barackobama/weeklyaddresses/barackobamaweekly1.htm\n",
      "http://www.americanrhetoric.com/speeches/barackobama/barackobamaal-arabiya.htm\n",
      "http://www.americanrhetoric.com/speeches/barackobama/barackobamaexecutivecompensation.htm\n",
      "http://www.americanrhetoric.com/speeches/barackobama/barackobamafirstprimetimepressconference.htm\n",
      "http://www.americanrhetoric.com/speeches/barackobama/barackobamalincolnbicentennialspeech.htm\n",
      "http://www.americanrhetoric.com/speeches/barackobama/barackobamalincolnbirthdaybanquet.htm\n",
      "http://www.americanrhetoric.com/speeches/barackobama/barackobamajointsession2009.htm\n",
      "http://www.americanrhetoric.com/speeches/barackobama/barackobamacamplejeune2009.htm\n",
      "http://www.americanrhetoric.com/speeches/barackobama/barackobamahispanicchamberofcommerce.htm\n",
      "http://www.americanrhetoric.com/speeches/barackobama/barackobamag20summitpressconference.htm\n",
      "http://www.americanrhetoric.com/speeches/barackobama/barackobamastrasbourgspeech.htm\n",
      "http://www.americanrhetoric.com/speeches/barackobama/barackobamapraguespeech.htm\n",
      "http://www.americanrhetoric.com/speeches/barackobama/barackobamaturkishparliament.htm\n",
      "http://www.americanrhetoric.com/speeches/wariniraq/barackobamairaqtroops040709.htm\n",
      "http://www.americanrhetoric.com/speeches/barackobama/barackobamaeconomicvisiongeorgetown.htm\n",
      "http://www.americanrhetoric.com/speeches/barackobama/barackobamaCIAfirstvisit.htm\n",
      "http://www.americanrhetoric.com/speeches/barackobama/barackobamaholocaustdaysofremembrance.htm\n",
      "http://www.americanrhetoric.com/speeches/barackobama/barackobamawhitehousecorrespondentsdinner2009.htm\n",
      "http://www.americanrhetoric.com/speeches/barackobama/barackobamajointpressbenjaminnetanyahu.htm\n",
      "http://www.americanrhetoric.com/speeches/barackobama/barackobamanotredamecommencement.htm\n",
      "http://www.americanrhetoric.com/speeches/barackobama/barackobamanationalarchives.htm\n",
      "http://www.americanrhetoric.com/speeches/barackobama/barackobamacybersecurity.htm\n",
      "http://www.americanrhetoric.com/speeches/barackobama/barackobamacairouniversity.htm\n",
      "http://www.americanrhetoric.com/speeches/barackobama/barackobamabuchenwaldconcentrationcamp.htm\n",
      "http://www.americanrhetoric.com/speeches/barackobama/barackobamadday65anniversary.htm\n",
      "http://www.americanrhetoric.com/speeches/barackobama/barackobamaamericanmedicalassociation.htm\n",
      "http://www.americanrhetoric.com/speeches/barackobama/barackobamauprisingiran.htm\n",
      "http://www.americanrhetoric.com/speeches/barackobama/barackobamapressconferenceiranandhealthcare.htm\n",
      "http://www.americanrhetoric.com/speeches/barackobama/barackobamaneweconomicschool.htm\n",
      "http://www.americanrhetoric.com/speeches/barackobama/barackobamaghanaparliament.htm\n",
      "http://www.americanrhetoric.com/speeches/barackobama/barackobamasurgeongeneralnomination.htm\n",
      "http://www.americanrhetoric.com/speeches/barackobama/barackobamaamericangraduationinitiative.htm\n",
      "http://www.americanrhetoric.com/speeches/barackobama/barackobamaeulogytedkennedy.htm\n",
      "http://www.americanrhetoric.com/speeches/barackobama/barackobamabacktoschoolspeech.htm\n",
      "http://www.americanrhetoric.com/speeches/barackobama/barackobamawaltercronkiteeulogy.htm\n",
      "http://www.americanrhetoric.com/speeches/barackobama/barackobamajointsessionhealthcare.htm\n",
      "http://www.americanrhetoric.com/speeches/barackobama/barackobama911pentagonmemorialspeech.htm\n",
      "http://www.americanrhetoric.com/speeches/barackobama/barackobamaunitednations64.htm\n",
      "http://www.americanrhetoric.com/speeches/barackobama/barackobamaforthoodmemorial.htm\n",
      "http://www.americanrhetoric.com/speeches/barackobama/barackobamawestpointafghanistan.htm\n",
      "http://www.americanrhetoric.com/speeches/barackobama/barackobamakennedycenterhonorees2009.htm\n",
      "http://www.americanrhetoric.com/speeches/barackobama/barackobamabrookingsinstitute.htm\n"
     ]
    },
    {
     "name": "stdout",
     "output_type": "stream",
     "text": [
      "http://www.americanrhetoric.com/speeches/barackobama/barackobamanobelprizespeech.htm\n",
      "http://www.americanrhetoric.com/speeches/barackobama/barackobamaunitednationsclimatechange.htm\n",
      "http://www.americanrhetoric.com/speeches/barackobama/barackobamaflight253terrorismiranviolence.htm\n",
      "http://www.americanrhetoric.com/speeches/barackobama/barackobamasecurityreviewpressconference.htm\n",
      "http://www.americanrhetoric.com/speeches/barackobama/barackobamaaviationsecurity.htm\n",
      "http://www.americanrhetoric.com/speeches/barackobama/barackobamafinancialcrisisresponsiblityfee.htm\n",
      "http://www.americanrhetoric.com/speeches/barackobama/barackobamamlkremembrancespeech.htm\n",
      "http://www.americanrhetoric.com/speeches/barackobama/barackobamaloraincountytownhallspeech.htm\n",
      "http://www.americanrhetoric.com/speeches/barackobama/barackobamaauschwitzbirkenauliberation65.htm\n",
      "http://www.americanrhetoric.com/speeches/stateoftheunion2010.htm\n",
      "http://www.americanrhetoric.com/speeches/barackobama/barackobamagophouseissuesconference.htm\n",
      "http://www.americanrhetoric.com/speeches/barackobama/barackobama2010budgettocongress.htm\n",
      "http://www.americanrhetoric.com/speeches/barackobama/barackobama2010prayerbreakfastspeech.htm\n",
      "http://www.americanrhetoric.com/speeches/barackobama/barackobamajobshealthcarebriefing.htm\n",
      "http://www.americanrhetoric.com/speeches/barackobama/barackobamahendersontownhall.htm\n",
      "http://www.americanrhetoric.com/speeches/barackobama/barackobamaheathcarevotenow.htm\n",
      "http://www.americanrhetoric.com/speeches/barackobama/barackobamanochildleftbehind.htm\n",
      "http://www.americanrhetoric.com/speeches/barackobama/barackobamahealthcaregeorgemason.htm\n",
      "http://www.americanrhetoric.com/speeches/barackobama/barackobamahousedemocraticcongresshealthcare.htm\n",
      "http://www.americanrhetoric.com/speeches/barackobama/barackobamapassinghealthcarebill.htm\n",
      "http://www.americanrhetoric.com/speeches/barackobama/barackobamahealthreformbillsigning.htm\n",
      "http://www.americanrhetoric.com/speeches/barackobama/barackobamatroopsafghanistan.htm\n",
      "http://www.americanrhetoric.com/speeches/barackobama/barackobamaenergysecurityandrewsafb.htm\n",
      "http://www.americanrhetoric.com/speeches/barackobama/barackobamastarttreaty.htm\n",
      "http://www.americanrhetoric.com/speeches/barackobama/barackobamawvminejusticestevens.htm\n",
      "http://www.americanrhetoric.com/speeches/barackobama/barackobamanasaboldcourse.htm\n",
      "http://www.americanrhetoric.com/speeches/barackobama/barackobamareformingwallstreet.htm\n",
      "http://www.americanrhetoric.com/speeches/barackobama/barackobamaeulogycoalminers.htm\n",
      "http://www.americanrhetoric.com/speeches/barackobama/barackobamadorothyheight.htm\n",
      "http://www.americanrhetoric.com/speeches/barackobama/barackobamauniversityofmichigancommencement.htm\n",
      "http://www.americanrhetoric.com/speeches/barackobama/barackobamawhitehousecorrespondentsdinner2010.htm\n",
      "http://www.americanrhetoric.com/speeches/barackobama/barackobamaelenakagannomination.htm\n",
      "http://www.americanrhetoric.com/speeches/barackobama/barackobamawestpointcommencement.htm\n",
      "http://www.americanrhetoric.com/speeches/barackobama/barackobamagulfoilspillpresser.htm\n",
      "http://www.americanrhetoric.com/speeches/barackobama/barackobamagrandeisleoilspillbriefing.htm\n",
      "http://www.americanrhetoric.com/speeches/barackobama/barackobamacarnegiemellon.htm\n",
      "http://www.americanrhetoric.com/speeches/barackobama/barackobamakalamazoocommencement.htm\n",
      "http://www.americanrhetoric.com/speeches/barackobama/barackobamairansanctions.htm\n",
      "http://www.americanrhetoric.com/speeches/barackobama/barackobamapensacolamilitary.htm\n",
      "http://www.americanrhetoric.com/speeches/barackobama/barackobamabpoilspillovaloffice.htm\n",
      "http://www.americanrhetoric.com/speeches/barackobama/barackobamanursesassociation.htm\n",
      "http://www.americanrhetoric.com/speeches/barackobama/barackobamafathersday2010.htm\n",
      "http://www.americanrhetoric.com/speeches/barackobama/barackobamamccrystalremovedafghanistan.htm\n",
      "http://www.americanrhetoric.com/speeches/barackobama/barackobamacomprehensiveimmigrationreform.htm\n",
      "http://www.americanrhetoric.com/speeches/barackobama/barackobamarobertbyrdeulogy.htm\n",
      "http://www.americanrhetoric.com/speeches/barackobama/barackobamawallstreetreformactsigning.htm\n",
      "http://www.americanrhetoric.com/speeches/barackobama/barackobamairaqendingcombat.htm\n",
      "http://www.americanrhetoric.com/speeches/barackobama/barackobamaiftardinner.htm\n",
      "http://www.americanrhetoric.com/speeches/wariniraq/barackobamairaqendofcombatops.htm\n",
      "http://www.americanrhetoric.com/speeches/barackobama/barackobama911pentagonmemorial.htm\n",
      "http://www.americanrhetoric.com/speeches/barackobama/barackobamaunitednations65.htm\n",
      "http://www.americanrhetoric.com/speeches/barackobama/barackobamamidtermpresser.htm\n",
      "http://www.americanrhetoric.com/speeches/barackobama/barackobamaindianparliament.htm\n",
      "http://www.americanrhetoric.com/speeches/barackobama/barackobamaindonesiauniversity.htm\n",
      "http://www.americanrhetoric.com/speeches/barackobama/barackobamagiuntamedalofhonor.htm\n",
      "http://www.americanrhetoric.com/speeches/barackobama/barackobamabagramairfield.htm\n",
      "http://www.americanrhetoric.com/speeches/barackobama/barackobamawjclintontaxcuts.htm\n",
      "http://www.americanrhetoric.com/speeches/barackobama/barackobamatucsonmemorial.htm\n",
      "http://www.americanrhetoric.com/speeches/stateoftheunion2011.htm\n",
      "http://www.americanrhetoric.com/speeches/barackobama/barackobama2011prayerbreakfast.htm\n",
      "http://www.americanrhetoric.com/speeches/barackobama/barackobamachamberofcommerce.htm\n",
      "http://www.americanrhetoric.com/speeches/barackobama/barackobamanationalwirelessinitiative.htm\n",
      "http://www.americanrhetoric.com/speeches/barackobama/barackobamaegyptrevolution.htm\n",
      "http://www.americanrhetoric.com/speeches/barackobama/barackobamalibya.htm\n",
      "http://www.americanrhetoric.com/speeches/barackobama/barackobamalibyawarning.htm\n",
      "http://www.americanrhetoric.com/speeches/barackobama/barackobamalibyaltdmilitaryaction.htm\n",
      "http://www.americanrhetoric.com/speeches/barackobama/barackobamariodejaneiro.htm\n",
      "http://www.americanrhetoric.com/speeches/barackobama/barackobamachilespeech.htm\n",
      "http://www.americanrhetoric.com/speeches/barackobama/barackobamalibyanationspeech.htm\n",
      "http://www.americanrhetoric.com/speeches/barackobama/barackobamaamericanenergysecurity.htm\n",
      "http://www.americanrhetoric.com/speeches/barackobama/barackobamafiscalpolicy2011.htm\n",
      "http://www.americanrhetoric.com/speeches/barackobama/barackobama2012prescandidacy.htm\n",
      "http://www.americanrhetoric.com/speeches/barackobama/barackobamabirthcertificatespeech.htm\n",
      "http://www.americanrhetoric.com/speeches/barackobama/barackobamaalabamatornado.htm\n",
      "http://www.americanrhetoric.com/speeches/barackobama/barackobamamiamidadecommencement.htm\n",
      "http://www.americanrhetoric.com/speeches/barackobama/barackobamawhitehousecorrespondentsdinner2011.htm\n",
      "http://www.americanrhetoric.com/speeches/barackobama/barackobamaosamabinladendeath.htm\n",
      "http://www.americanrhetoric.com/speeches/barackobama/barackobamafortcampbellkytroops.htm\n",
      "http://www.americanrhetoric.com/speeches/barackobama/barackobamabookertwashington.htm\n",
      "http://www.americanrhetoric.com/speeches/barackobama/barackobamamiddleeastpolicy.htm\n",
      "http://www.americanrhetoric.com/speeches/barackobama/barackobamamiddleeastpolicy.htm\n",
      "http://www.americanrhetoric.com/speeches/barackobama/barackobamaciaheadquarters.htm\n",
      "http://www.americanrhetoric.com/speeches/barackobama/barackobamabenjaminnetanyahujointpress.htm\n",
      "http://www.americanrhetoric.com/speeches/barackobama/barackobamaaipacpc2011.htm\n",
      "http://www.americanrhetoric.com/speeches/barackobama/barackobamabritishparliament.htm\n",
      "http://www.americanrhetoric.com/speeches/barackobama/barackobamajoplinmemorial.htm\n",
      "http://www.americanrhetoric.com/speeches/barackobama/barackobamadefensepersonnel.htm\n",
      "http://www.americanrhetoric.com/speeches/barackobama/barackobamaafghanistanwardrawdown.htm\n",
      "http://www.americanrhetoric.com/speeches/barackobama/barackobamacarnegiemellonrobotics.htm\n",
      "http://www.americanrhetoric.com/speeches/barackobama/barackobamajobgrowthpresser.htm\n",
      "http://www.americanrhetoric.com/speeches/barackobama/barackobamadeficitreductionplan.htm\n",
      "http://www.americanrhetoric.com/speeches/barackobama/barackobamadebtapprovalstmt.htm\n",
      "http://www.americanrhetoric.com/speeches/barackobama/barackobamadebtcompromise.htm\n",
      "http://www.americanrhetoric.com/speeches/barackobama/barackobamaamericanlegion2011.htm\n"
     ]
    },
    {
     "name": "stdout",
     "output_type": "stream",
     "text": [
      "http://www.americanrhetoric.com/speeches/barackobama/barackobamajointsessionjobs.htm\n",
      "http://www.americanrhetoric.com/speeches/barackobama/barackobamaeconomicplandebtreductionbill.htm\n",
      "http://www.americanrhetoric.com/speeches/barackobama/barackobamaunlibya.htm\n",
      "http://www.americanrhetoric.com/speeches/barackobama/barackobamaunitednations66.htm\n",
      "http://www.americanrhetoric.com/speeches/barackobama/barackobamamlkmemorialdedication.htm\n",
      "http://www.americanrhetoric.com/speeches/barackobama/barackobamaqaddafideath.htm\n",
      "http://www.americanrhetoric.com/speeches/wariniraq/barackobamaendingiraqwar.htm\n",
      "http://www.americanrhetoric.com/speeches/barackobama/barackobamaaustralianparliament.htm\n",
      "http://www.americanrhetoric.com/speeches/barackobama/barackobamatribalnationsconference.htm\n",
      "http://www.americanrhetoric.com/speeches/barackobama/barackobamaosawatomieeconomy.htm\n",
      "http://www.americanrhetoric.com/speeches/barackobama/barackobamaweeklyaddress17dec2011.htm\n",
      "http://www.americanrhetoric.com/speeches/barackobama/barackobamamilitarystrategychanges.htm\n",
      "http://www.americanrhetoric.com/speeches/stateoftheunion2012.htm\n",
      "http://www.americanrhetoric.com/speeches/barackobama/barackobamaveteransjobscorps.htm\n",
      "http://www.americanrhetoric.com/speeches/barackobama/barackobamairaqwarveterangala.htm\n",
      "http://www.americanrhetoric.com/speeches/barackobama/barackobamaaipac2012.htm\n",
      "http://www.americanrhetoric.com/speeches/barackobama/barackobamahankukuniversity.htm\n",
      "http://www.americanrhetoric.com/speeches/barackobama/barackobamagasoilsubsidies.htm\n",
      "http://www.americanrhetoric.com/speeches/barackobama/barackobamaapluncheon.htm\n",
      "http://www.americanrhetoric.com/speeches/barackobama/barackobamanationalholocaustmemorialmuseum.htm\n",
      "http://www.americanrhetoric.com/speeches/barackobama/barackobamawhitehousecorrespondentsdinner2012.htm\n",
      "http://www.americanrhetoric.com/speeches/barackobama/barackobamabarnardcollegecommencement.htm\n",
      "http://www.americanrhetoric.com/speeches/barackobama/barackobamashimonperesemedaloffreedom.htm\n",
      "http://www.americanrhetoric.com/speeches/barackobama/barackobamausschealthcareruling.htm\n",
      "http://www.americanrhetoric.com/speeches/barackobama/barackobamaauroratragedy.htm\n",
      "http://www.americanrhetoric.com/speeches/barackobama/barackobama113vfw.htm\n",
      "http://www.americanrhetoric.com/speeches/convention2012/barackobama2012dnc.htm\n",
      "http://www.americanrhetoric.com/speeches/barackobama/barackobamabenghaziattacks.htm\n",
      "http://www.americanrhetoric.com/speeches/barackobama/barackobamabenghazivictims.htm\n",
      "http://www.americanrhetoric.com/speeches/barackobama/barackobamaclintonglobalinitiative2012.htm\n",
      "http://www.americanrhetoric.com/speeches/barackobama/barackobamaunitednations67.htm\n",
      "http://www.americanrhetoric.com/speeches/obama-romneyfirstdebate.htm\n",
      "http://www.americanrhetoric.com/speeches/obama-romneyseconddebate.htm\n",
      "http://www.americanrhetoric.com/speeches/obama-romneythirddebate.htm\n",
      "http://www.americanrhetoric.com/speeches/barackobama/barackobamahurricanesandy29oct.htm\n",
      "http://www.americanrhetoric.com/speeches/barackobama/barackobamahurricanesandy29oct.htm\n",
      "http://www.americanrhetoric.com/speeches/barackobama/barackobamaredcross.htm\n",
      "http://www.americanrhetoric.com/speeches/barackobama/barackobamasecondpresidentialvictoryspeech.htm\n",
      "http://www.americanrhetoric.com/speeches/barackobama/barackobamapostelectioneconomy.htm\n",
      "http://www.americanrhetoric.com/speeches/barackobama/barackobamapresserpetraeus.htm\n",
      "http://www.americanrhetoric.com/speeches/barackobama/barackobamayangonuniversity.htm\n",
      "http://www.americanrhetoric.com/speeches/barackobama/barackobamanewtownshooting.htm\n",
      "http://www.americanrhetoric.com/speeches/barackobama/barackobamanewtownshooting.htm\n",
      "http://www.americanrhetoric.com/speeches/barackobama/barackobamanewtownvigilspeech.htm\n",
      "http://www.americanrhetoric.com/speeches/barackobama/barackobamagunviolencepresser.htm\n",
      "http://www.americanrhetoric.com/speeches/barackobama/barackobamadanielinouyeeulogy.htm\n",
      "http://www.americanrhetoric.com/speeches/barackobama/barackobamafinalfirsttermpresser.htm\n",
      "http://www.americanrhetoric.com/speeches/barackobama/barackobamagunviolenceexecacts.htm\n",
      "http://www.americanrhetoric.com/speeches/barackobama/barackobamasecondinauguraladdress.htm\n",
      "http://www.americanrhetoric.com/speeches/barackobama/barackobamaimmagrationreform.htm\n",
      "http://www.americanrhetoric.com/speeches/stateoftheunion2013.htm\n",
      "http://www.americanrhetoric.com/speeches/barackobama/barackobamamiddleclasseconomy.htm\n",
      "http://www.americanrhetoric.com/speeches/barackobama/barackobamasequesternewportnews.htm\n",
      "http://www.americanrhetoric.com/speeches/barackobama/barackobamarosaparksstatue.htm\n",
      "http://www.americanrhetoric.com/speeches/barackobama/barackobamajerusalemconventioncenter.htm\n",
      "http://www.americanrhetoric.com/speeches/barackobama/barackobamachildrensmemorialyadvashem.htm\n",
      "http://www.americanrhetoric.com/speeches/barackobama/barackobamabraininitiative.htm\n",
      "http://www.americanrhetoric.com/speeches/barackobama/barackobamagunviolencereductiondenver.htm\n",
      "http://www.americanrhetoric.com/speeches/barackobama/barackobamagunviolencereductionconnecticut.htm\n",
      "http://www.americanrhetoric.com/speeches/barackobama/barackobamaemilkapaunmedalofhonor.htm\n",
      "http://www.americanrhetoric.com/speeches/barackobama/barackobamabostonmarathonexplosionsfirststatement.htm\n",
      "http://www.americanrhetoric.com/speeches/barackobama/barackobamabostonmarathonexplosionssecondstatement.htm\n",
      "http://www.americanrhetoric.com/speeches/barackobama/barackobamasenateguncontrolbillvote.htm\n",
      "http://www.americanrhetoric.com/speeches/barackobama/barackobamabostonmarathonexplosionsthirdstatement.htm\n",
      "http://www.americanrhetoric.com/speeches/barackobama/barackobamabostoninterfaithprayerservice.htm\n",
      "http://www.americanrhetoric.com/speeches/barackobama/barackobamagwbushlibrarydedication.htm\n",
      "http://www.americanrhetoric.com/speeches/barackobama/barackobamawestfertilizerplantmemorial.htm\n",
      "http://www.americanrhetoric.com/speeches/barackobama/barackobamawhitehousecorrespondentsdinner2013.htm\n",
      "http://www.americanrhetoric.com/speeches/barackobama/barackobamasyriaetalpresser.htm\n",
      "http://www.americanrhetoric.com/speeches/barackobama/barackobamamexicopeople.htm\n",
      "http://www.americanrhetoric.com/speeches/barackobama/barackobamairsmisconduct.htm\n",
      "http://www.americanrhetoric.com/speeches/barackobama/barackobamamorehousecollegecommencement.htm\n",
      "http://www.americanrhetoric.com/speeches/barackobama/barackobamanationaldefenseuniversity.htm\n",
      "http://www.americanrhetoric.com/speeches/barackobama/barackobamanavalacademycommencement.htm\n",
      "http://www.americanrhetoric.com/speeches/barackobama/barackobamasanjosesurveillance.htm\n",
      "http://www.americanrhetoric.com/speeches/barackobama/barackobamaimmigrationreformcomprehensive.htm\n",
      "http://www.americanrhetoric.com/speeches/barackobama/barackobamanorthernireland.htm\n",
      "http://www.americanrhetoric.com/speeches/barackobama/barackobamabrandenburggate.htm\n",
      "http://www.americanrhetoric.com/speeches/barackobama/barackobamacapetownuniversity.htm\n",
      "http://www.americanrhetoric.com/speeches/barackobama/barackobamatrayvonmartin.htm\n",
      "http://www.americanrhetoric.com/speeches/barackobama/barackobamaknoxcollegeeconomy.htm\n",
      "http://www.americanrhetoric.com/speeches/barackobama/barackobamakoreanwar60tharmistice.htm\n",
      "http://www.americanrhetoric.com/speeches/barackobama/barackobamaintelreformpresser.htm\n",
      "http://www.americanrhetoric.com/speeches/barackobama/barackobamaletfreedomringceremony.htm\n",
      "http://www.americanrhetoric.com/speeches/barackobama/barackobamasyriachemicalweapons.htm\n",
      "http://www.americanrhetoric.com/speeches/barackobama/barackobamasyrianation.htm\n",
      "http://www.americanrhetoric.com/speeches/barackobama/barackobamanavyyardshootingmemorial.htm\n",
      "http://www.americanrhetoric.com/speeches/barackobama/barackobamaunitednations68.htm\n",
      "http://www.americanrhetoric.com/speeches/barackobama/barackobamaclintonglobalinitiative.htm\n",
      "http://www.americanrhetoric.com/speeches/barackobama/barackobamagovernmentshutdown.htm\n",
      "http://www.americanrhetoric.com/speeches/barackobama/barackobamaaffordablecareactwebsiteproblems.htm\n",
      "http://www.americanrhetoric.com/speeches/barackobama/barackobamaveteransday2013.htm\n",
      "http://www.americanrhetoric.com/speeches/barackobama/barackobamaaffordablecareactchanges.htm\n",
      "http://www.americanrhetoric.com/speeches/barackobama/barackobamairanaccordstatement.htm\n"
     ]
    },
    {
     "name": "stdout",
     "output_type": "stream",
     "text": [
      "http://www.americanrhetoric.com/speeches/barackobama/barackobamamandelapassing.htm\n",
      "http://www.americanrhetoric.com/speeches/barackobama/barackobamanelsonmandelamemorial.htm\n",
      "http://www.americanrhetoric.com/speeches/barackobama/barackobamafinal2013presser.htm\n",
      "http://www.americanrhetoric.com/speeches/barackobama/barackobamasignalsintelreview.htm\n",
      "http://www.americanrhetoric.com/speeches/stateoftheunion2014.htm\n",
      "http://www.americanrhetoric.com/speeches/barackobama/barackobama2014prayerbreakfast.htm\n",
      "http://www.americanrhetoric.com/speeches/barackobama/barackobamaeuropeanyouth.htm\n",
      "http://www.americanrhetoric.com/speeches/barackobama/barackobamaaustincivilrights.htm\n",
      "http://www.americanrhetoric.com/speeches/barackobama/barackobamapressconference04-17-14.htm\n",
      "http://www.americanrhetoric.com/speeches/barackobama/barackobamapmabejapanjointpresser.htm\n",
      "http://www.americanrhetoric.com/speeches/barackobama/barackobamaYSEALIMalaysia.htm\n",
      "http://www.americanrhetoric.com/speeches/barackobama/barackobamabenignoaquinojointpresser.htm\n",
      "http://www.americanrhetoric.com/speeches/barackobama/barackobamafortbonifacio.htm\n",
      "http://www.americanrhetoric.com/speeches/barackobama/barackobamawhitehousecorrespondentsdinner2014.htm\n",
      "http://www.americanrhetoric.com/speeches/barackobama/barackobamavamisconductallegations.htm\n",
      "http://www.americanrhetoric.com/speeches/barackobama/barackobamawestpointcommencement2014.htm\n",
      "http://www.americanrhetoric.com/speeches/barackobama/barackobamaveteransaffairsmisconduct.htm\n",
      "http://www.americanrhetoric.com/speeches/barackobama/barackobamafreedomdaypoland.htm\n",
      "http://www.americanrhetoric.com/speeches/barackobama/barackobamadday70.htm\n",
      "http://www.americanrhetoric.com/speeches/barackobama/barackobamaimmigrationbordersecurity.htm\n",
      "http://www.americanrhetoric.com/speeches/barackobama/barackobamaflightmh17.htm\n",
      "http://www.americanrhetoric.com/speeches/barackobama/barackobamaryanpittsmedalofhonor.htm\n",
      "http://www.americanrhetoric.com/speeches/barackobama/barackobamaeconomyforeignpolicy.htm\n",
      "http://www.americanrhetoric.com/speeches/barackobama/barackobamairaqairstrikehumanitarianeffort.htm\n",
      "http://www.americanrhetoric.com/speeches/barackobama/barackobamairaqairstrikehumanitarianeffortupdate.htm\n",
      "http://www.americanrhetoric.com/speeches/barackobama/barackobamafergusonmissouri.htm\n",
      "http://www.americanrhetoric.com/speeches/barackobama/barackobamairaqukraine.htm\n",
      "http://www.americanrhetoric.com/speeches/barackobama/barackobamajointpressertoomasilves.htm\n",
      "http://www.americanrhetoric.com/speeches/barackobama/barackobamaestoniapeople.htm\n",
      "http://www.americanrhetoric.com/speeches/barackobama/barackobamaisilspeechtonation.htm\n",
      "http://www.americanrhetoric.com/speeches/barackobama/barackobamaebolacdc.htm\n",
      "http://www.americanrhetoric.com/speeches/barackobama/barackobamaunitednations69.htm\n",
      "http://www.americanrhetoric.com/speeches/barackobama/barackobamaunitednationssecuritycouncil2014.htm\n",
      "http://www.americanrhetoric.com/speeches/barackobama/barackobamaunitednationsebola.htm\n",
      "http://www.americanrhetoric.com/speeches/barackobama/barackobamexecutiveorder13681acfpb.htm\n",
      "http://www.americanrhetoric.com/speeches/barackobama/barackobamaebolaresponseupdate.htm\n",
      "http://www.americanrhetoric.com/speeches/barackobama/barackobamamidtermrepublicanvictorypresser.htm\n",
      "http://www.americanrhetoric.com/speeches/barackobama/barackobamasuukyipresser.htm\n",
      "http://www.americanrhetoric.com/speeches/barackobama/barackobamaYSEALIMyanmar.htm\n",
      "http://www.americanrhetoric.com/speeches/barackobama/barackobamaimmigrationnationalpolicy.htm\n",
      "http://www.americanrhetoric.com/speeches/barackobama/barackobamaebolavaccineNIH.htm\n",
      "http://www.americanrhetoric.com/speeches/barackobama/barackobamacubapolicychanges.htm\n",
      "http://www.americanrhetoric.com/speeches/barackobama/barackobamafinal2014presser.htm\n",
      "http://www.americanrhetoric.com/speeches/barackobama/barackobamacommunitycollegefreeplan.htm\n",
      "http://www.americanrhetoric.com/speeches/barackobama/barackobamaftc2014.htm\n",
      "http://www.americanrhetoric.com/speeches/barackobama/barackobamanccic.htm\n",
      "http://www.americanrhetoric.com/speeches/stateoftheunion2015.htm\n",
      "http://www.americanrhetoric.com/speeches/barackobama/barackobamaindia2015.htm\n",
      "http://www.americanrhetoric.com/speeches/barackobama/barackobama2015prayerbreakfast.htm\n",
      "http://www.americanrhetoric.com/speeches/barackobama/barackobamaISILforceauthorization.htm\n",
      "http://www.americanrhetoric.com/speeches/barackobama/barackobamastanfordcybersecurity.htm\n",
      "http://www.americanrhetoric.com/speeches/barackobama/barackobamaviolentreligiousextremism.htm\n",
      "http://www.americanrhetoric.com/speeches/barackobama/barackobamairanpmnetanyahucongressspeech.htm\n",
      "http://www.americanrhetoric.com/speeches/barackobama/barackobamaselma50anniversarymarch.htm\n",
      "http://www.americanrhetoric.com/speeches/barackobama/barackobamastudentaidbillofrights.htm\n",
      "http://www.americanrhetoric.com/speeches/barackobama/barackobamatedkennedyinstitutededication.htm\n",
      "http://www.americanrhetoric.com/speeches/barackobama/barackobamairannuclearagreement.htm\n",
      "http://www.americanrhetoric.com/speeches/barackobama/barackobamaYLAIJamaica.htm\n",
      "http://www.americanrhetoric.com/speeches/barackobama/barackobamacivilsocietyforum.htm\n",
      "http://www.americanrhetoric.com/speeches/barackobama/barackobamapanamapostpresser.htm\n",
      "http://www.americanrhetoric.com/speeches/barackobama/barackobamasummitamericasplenarysession.htm\n",
      "http://www.americanrhetoric.com/speeches/barackobama/barackobamahostagedronedeaths.htm\n",
      "http://www.americanrhetoric.com/speeches/barackobama/barackobamawhitehousecorrespondentsdinner2015.htm\n",
      "http://www.americanrhetoric.com/speeches/barackobama/barackobamatradenike.htm\n",
      "http://www.americanrhetoric.com/speeches/barackobama/barackobamaadasisraelcongregation.htm\n",
      "http://www.americanrhetoric.com/speeches/barackobama/barackobamaYSEALIWashingtonDC.htm\n",
      "http://www.americanrhetoric.com/speeches/barackobama/barackobamabeaubideneulogy.htm\n",
      "http://www.americanrhetoric.com/speeches/barackobama/barackobamaG7conference2015.htm\n",
      "http://www.americanrhetoric.com/speeches/barackobama/barackobamasouthcarolinashooting.htm\n",
      "http://www.americanrhetoric.com/speeches/barackobama/barackobamamayorsconference2015.htm\n",
      "http://www.americanrhetoric.com/speeches/barackobama/barackobamahostagepolicyreview.htm\n",
      "http://www.americanrhetoric.com/speeches/barackobama/barackobamaaffordablecareactUSSC.htm\n",
      "http://www.americanrhetoric.com/speeches/barackobama/barackobamaclementapinckneyeulogy.htm\n",
      "http://www.americanrhetoric.com/speeches/barackobama/barackobamaisilprogresspentagon.htm\n",
      "http://www.americanrhetoric.com/speeches/barackobama/barackobamaagingconference.htm\n",
      "http://www.americanrhetoric.com/speeches/barackobama/barackobamanaacp2015.htm\n",
      "http://www.americanrhetoric.com/speeches/barackobama/barackobamairannucleardealfinal.htm\n",
      "http://www.americanrhetoric.com/speeches/barackobama/barackobamairannuclearaccordfinalpresser.htm\n",
      "http://www.americanrhetoric.com/speeches/barackobama/barackobamakenyacivilsociety.htm\n",
      "http://www.americanrhetoric.com/speeches/barackobama/barackobamakenyapeople.htm\n",
      "http://www.americanrhetoric.com/speeches/barackobama/barackobamaafricancontinentreps.htm\n",
      "http://www.americanrhetoric.com/speeches/barackobama/barackobamacleanpowerplan.htm\n",
      "http://www.americanrhetoric.com/speeches/barackobama/barackobamairanamericanuniversity.htm\n",
      "http://www.americanrhetoric.com/speeches/barackobama/barackobamakatrinahurricane10years.htm\n",
      "http://www.americanrhetoric.com/speeches/barackobama/barackobamaworldwidetrooptalk.htm\n",
      "http://www.americanrhetoric.com/speeches/barackobama/barackobamacongressionalblackcaucus2015.htm\n",
      "http://www.americanrhetoric.com/speeches/barackobama/barackobamapopefranciswhitehousewelcome.htm\n",
      "http://www.americanrhetoric.com/speeches/barackobama/barackobamamartindempseyretirement.htm\n",
      "http://www.americanrhetoric.com/speeches/barackobama/barackobamaunitednations70.htm\n",
      "http://www.americanrhetoric.com/speeches/barackobama/barackobamaumpquashootings.htm\n",
      "http://www.americanrhetoric.com/speeches/barackobama/barackobamapressconference10-02-15.htm\n",
      "http://www.americanrhetoric.com/speeches/barackobama/barackobamaafghanistanstatement.htm\n",
      "http://www.americanrhetoric.com/speeches/barackobama/barackobamawestvirginiacommunityforum.htm\n",
      "http://www.americanrhetoric.com/speeches/barackobama/barackobamaparisterrorattacks.htm\n"
     ]
    },
    {
     "name": "stdout",
     "output_type": "stream",
     "text": [
      "http://www.americanrhetoric.com/speeches/barackobama/barackobamaburundipeoplemessage.htm\n",
      "http://www.americanrhetoric.com/speeches/barackobama/barackobamaturkeypresser.htm\n",
      "http://www.americanrhetoric.com/speeches/barackobama/barackobamaASEAN2015.htm\n",
      "http://www.americanrhetoric.com/speeches/barackobama/barackobamamalaysiapresser2015.htm\n",
      "http://www.americanrhetoric.com/speeches/barackobama/barackobamafrancoishollandpresser.htm\n",
      "http://www.americanrhetoric.com/speeches/barackobama/barackobamafrancoishollandpresser.htm\n",
      "http://www.americanrhetoric.com/speeches/barackobama/barackobamacop21.htm\n",
      "http://www.americanrhetoric.com/speeches/barackobama/barackobamaparispressconference.htm\n",
      "http://www.americanrhetoric.com/speeches/barackobama/barackobamaforeigndomesticterrorismresponseovaloffice.htm\n",
      "http://www.americanrhetoric.com/speeches/barackobama/barackobama13thamendment150anniversary.htm\n",
      "http://www.americanrhetoric.com/speeches/barackobama/barackobamaeverystudentsucceeds.htm\n",
      "http://www.americanrhetoric.com/speeches/barackobama/barackobamaparisclimateagreement.htm\n",
      "http://www.americanrhetoric.com/speeches/barackobama/barackobamacounterISILupdate12-14-15.htm\n",
      "http://www.americanrhetoric.com/speeches/barackobama/barackobamanaturalizationnationalarchives.htm\n",
      "http://www.americanrhetoric.com/speeches/barackobama/barackobamanationalcounterterrorismcenter.htm\n",
      "http://www.americanrhetoric.com/speeches/barackobama/barackobamafinal2015presser.htm\n",
      "http://www.americanrhetoric.com/speeches/barackobama/weeklyaddresses/barackobamaweekly1-1-16.htm\n",
      "http://www.americanrhetoric.com/speeches/barackobama/barackobamagunviolencereduction.htm\n",
      "http://www.americanrhetoric.com/speeches/barackobama/barackobamagunsinamericancnntownhall.htm\n",
      "http://www.americanrhetoric.com/speeches/stateoftheunion2016.htm\n",
      "http://www.americanrhetoric.com/speeches/barackobama/barackobamairansanctionslifted.htm\n",
      "http://www.americanrhetoric.com/speeches/barackobama/barackobamarighteousamongnationsceremony.htm\n",
      "http://www.americanrhetoric.com/speeches/barackobama/barackobamaislamicsocietybaltimore.htm\n",
      "http://www.americanrhetoric.com/speeches/barackobama/barackobama2016prayerbreakfast.htm\n",
      "http://www.americanrhetoric.com/speeches/barackobama/barackobamagoldenstatewarriors.htm\n",
      "http://www.americanrhetoric.com/speeches/barackobama/barackobamailliinoisgeneralassembly.htm\n",
      "http://www.americanrhetoric.com/speeches/barackobama/barackobamaantoninscaliapassing.htm\n",
      "http://www.americanrhetoric.com/speeches/barackobama/barackobamaASEANpresser.htm\n",
      "http://www.americanrhetoric.com/speeches/barackobama/barackobamaweeklyaddresscubanewchapter.htm\n",
      "http://www.americanrhetoric.com/speeches/barackobama/barackobamaguantanamobayclosing.htm\n",
      "http://www.americanrhetoric.com/speeches/barackobama/barackobamaISILupdate.htm\n",
      "http://www.americanrhetoric.com/speeches/barackobama/barackobamarecoveryandreinvestmentact.htm\n",
      "http://www.americanrhetoric.com/speeches/barackobama/barackobamasxsw.htm\n",
      "http://www.americanrhetoric.com/speeches/barackobama/barackobamamerrickgarlandnomination.htm\n",
      "http://www.americanrhetoric.com/speeches/barackobama/barackobamaraulcastropresser.htm\n",
      "http://www.americanrhetoric.com/speeches/barackobama/barackobamacubaentrepreneurs.htm\n",
      "http://www.americanrhetoric.com/speeches/barackobama/barackobamacubapeoplespeech.htm\n",
      "http://www.americanrhetoric.com/speeches/barackobama/barackobamaYLAIArgentina.htm\n",
      "http://www.americanrhetoric.com/speeches/barackobama/barackobamadavidsimonthewire.htm\n",
      "http://www.americanrhetoric.com/speeches/barackobama/barackobamanuclearsummitpresser.htm\n",
      "http://www.americanrhetoric.com/speeches/barackobama/barackobamausscconversation.htm\n",
      "http://www.americanrhetoric.com/speeches/barackobama/barackobamasaudiarabiapresser.htm\n",
      "http://www.americanrhetoric.com/speeches/barackobama/barackobamalondontownhall.htm\n",
      "http://www.americanrhetoric.com/speeches/barackobama/barackobamaeuropehanover.htm\n",
      "http://www.americanrhetoric.com/speeches/barackobama/barackobamawhitehousecorrespondentsdinner2016.htm\n",
      "http://www.americanrhetoric.com/speeches/barackobama/barackobamaflintmichigancommunity.htm\n",
      "http://www.americanrhetoric.com/speeches/barackobama/barackobamahowarduniversitycommencement.htm\n",
      "http://www.americanrhetoric.com/speeches/barackobama/weeklyaddresses/barackobamaweeklyaddictionmacklemore.htm\n",
      "http://www.americanrhetoric.com/speeches/barackobama/barackobamanationalconventioncentervietnam.htm\n",
      "http://www.americanrhetoric.com/speeches/barackobama/barackobamavietnambusinessdevelopment.htm\n",
      "http://www.americanrhetoric.com/speeches/barackobama/barackobamaYSEALIVietnam.htm\n",
      "http://www.americanrhetoric.com/speeches/barackobama/barackobamashinzoabepresser.htm\n",
      "http://www.americanrhetoric.com/speeches/barackobama/barackobamajapanpostG7presser.htm\n",
      "http://www.americanrhetoric.com/speeches/barackobama/barackobamahiroshimaspeech.htm\n",
      "http://www.americanrhetoric.com/speeches/barackobama/barackobamaairforceacademycommencement.htm\n",
      "http://www.americanrhetoric.com/speeches/barackobama/barackobamahillaryclintonpresidentialendorsement.htm\n",
      "http://www.americanrhetoric.com/speeches/barackobama/barackobamaorlandoshootings.htm\n",
      "http://www.americanrhetoric.com/speeches/barackobama/barackobamaISILcounter.htm\n",
      "http://www.americanrhetoric.com/speeches/barackobama/barackobamaunitedstateofwomensummit.htm\n",
      "http://www.americanrhetoric.com/speeches/barackobama/barackobamaorlandocommunitystmt.htm\n",
      "http://www.americanrhetoric.com/speeches/barackobama/barackobamausvstexasimmigration.htm\n",
      "http://www.americanrhetoric.com/speeches/barackobama/barackobamapostnatopresser2016.htm\n",
      "http://www.americanrhetoric.com/speeches/barackobama/barackobamadallaspolicememorial.htm\n",
      "http://www.americanrhetoric.com/speeches/convention2016/barackobamadnc2016.htm\n",
      "http://www.americanrhetoric.com/speeches/barackobama/barackobamaisilpressconference.htm\n",
      "http://www.americanrhetoric.com/speeches/barackobama/barackobamabatonrougeflooding.htm\n",
      "http://www.americanrhetoric.com/speeches/barackobama/barackobamag20chinapresser.htm\n",
      "http://www.americanrhetoric.com/speeches/barackobama/barackobamalaospeople.htm\n",
      "http://www.americanrhetoric.com/speeches/barackobama/barackobamapostASEANpresser.htm\n",
      "http://www.americanrhetoric.com/speeches/barackobama/barackobama91115years.htm\n",
      "http://www.americanrhetoric.com/speeches/barackobama/barackobamanewyorkandnewjerseyexplosions.htm\n",
      "http://www.americanrhetoric.com/speeches/barackobama/barackobamaunitednations71.htm\n",
      "http://www.americanrhetoric.com/speeches/barackobama/barackobamaafricanamericanhistorymuseum.htm\n",
      "http://www.americanrhetoric.com/speeches/barackobama/barackobamashimonperesmemorial.htm\n",
      "http://www.americanrhetoric.com/speeches/barackobama/barackobama2016presidentialelectionoutcome.htm\n",
      "http://www.americanrhetoric.com/speeches/barackobama/barackobamadonaldtrumpmeeting.htm\n",
      "http://www.americanrhetoric.com/speeches/barackobama/barackobamapostelectionpresser.htm\n",
      "http://www.americanrhetoric.com/speeches/barackobama/barackobamagreecepeople.htm\n",
      "http://www.americanrhetoric.com/speeches/barackobama/barackobamaangelamerkelpresser2016.htm\n",
      "http://www.americanrhetoric.com/speeches/barackobama/barackobamaYLAI2016.htm\n",
      "http://www.americanrhetoric.com/speeches/barackobama/barackobamaperupressconference.htm\n",
      "http://www.americanrhetoric.com/speeches/barackobama/barackobamakennedycenter2016.htm\n",
      "http://www.americanrhetoric.com/speeches/barackobama/barackobamacounterterrorismapproach2016.htm\n",
      "http://www.americanrhetoric.com/speeches/barackobama/barackobamafinalpresidentialpressconference.htm\n",
      "http://www.americanrhetoric.com/speeches/barackobama/barackobamapearlhbarbor.htm\n",
      "http://www.americanrhetoric.com/speeches/barackobama/barackobamafarwellarmedforces.htm\n",
      "http://www.americanrhetoric.com/speeches/barackobama/barackobamaVOXinterview.htm\n",
      "http://www.americanrhetoric.com/speeches/barackobama/barackobamafarewelladdress.htm\n",
      "http://www.americanrhetoric.com/speeches/barackobama/barackobamajoebidenmedaloffreedom.htm\n",
      "http://www.americanrhetoric.com/speeches/barackobama/barackobamafinalweeklyaddress.htm\n",
      "http://www.americanrhetoric.com/speeches/barackobama/barackobamachicagocubsMLBchamps.htm\n",
      "http://www.americanrhetoric.com/speeches/barackobama/barackobamafinalpressconference.htm\n",
      "http://www.americanrhetoric.com/speeches/barackobama/barackobamafarewelltostaffandrewsaft.htm\n"
     ]
    }
   ],
   "source": [
    "compile_collection(full_urls)"
   ]
  },
  {
   "cell_type": "code",
   "execution_count": 92,
   "metadata": {},
   "outputs": [
    {
     "data": {
      "text/plain": [
       "463"
      ]
     },
     "execution_count": 92,
     "metadata": {},
     "output_type": "execute_result"
    }
   ],
   "source": [
    "speech_collection.estimated_document_count()"
   ]
  },
  {
   "cell_type": "code",
   "execution_count": 100,
   "metadata": {
    "collapsed": true
   },
   "outputs": [],
   "source": [
    "test = speech_collection.find_one({'name': 'barackobamawhitehousecorrespondentsdinner2015'})"
   ]
  },
  {
   "cell_type": "code",
   "execution_count": 107,
   "metadata": {},
   "outputs": [
    {
     "name": "stdout",
     "output_type": "stream",
     "text": [
      "[Good evening, everybody. Welcome to the White House Correspondents Dinner -- the night when Washington celebrates itself. Somebody's got to do it. And welcome to the fourth quarter of my presidency. It's true -- that was Michelle cheering. The fact is, I feel more loose and relaxed than ever. Those Joe Biden shoulder massages, they're like magic. You should try one. Oh, you have. I am determined to make the most of every moment I have left. After the midterm elections, my advisors asked me, \"Mr. President, do you have a bucket list?\" And I said, \"Well, I have something that rhymes with bucket list.'\", Take executive action on immigration? Bucket.New climate regulations? Bucket. It's the right thing to do. And my new attitude is paying off. Look at my Cuba policy. The Castro brothers are here tonight. Welcome to America, amigos! Que pasa? What? It's the Castros from Texas? Oh. Hi Joaquin. Hi Julian. Anyway, being President is never easy. I still have to fix a broken immigration system, issue veto threats, negotiate with Iran -- all while finding time to pray five times a day. Which is strenuous. And it is no wonder that people keep pointing out how the presidency has aged me. I look so old, John Boehner has already invited Netanyahu to speak at my funeral. , Meanwhile, Michelle hasn't aged a day. I ask her what her secret is, she just says \"fresh fruits and vegetables.\" It's aggravating. The fact is, though, at this point, my legacy is finally beginning to take shape. The economy is getting better. Nine in ten Americans now have health coverage. Today, thanks to Obamacare, you no longer have to worry about losing your insurance if you lose your job. You're welcome, Senate Democrats. Now, look, it is true I have not managed to make everybody happy. Six years into my presidency, some people still say I'm arrogant and aloof, condescending. Some people are so dumb. No wonder I don't meet with them. And that's not all people say about me. A few weeks ago, Dick Cheney says he thinks I'm the worst President of his lifetime. Which is interesting, because I think Dick Cheney is the worst President of my lifetime. It's quite a coincidence. I mean, everybody has got something to say these days. Mike Huckabee recently said people shouldn't join our military until a true conservative is elected President. Think about that. It was so outrageous, 47 Ayatollahs wrote us a letter trying to explain to Huckabee how our system works. It gets worse. Just this week, Michele Bachmann actually predicted that I would bring about the biblical end of days. Now that's a legacy! That's big. I mean, Lincoln, Washington -- they didn't do that. But I just have to put this stuff aside, I've got to stay focused on my job, because for many Americans, this is still a time of deep uncertainty. For example, I have one friend -- just a few weeks ago, she was making millions of dollars a year. And she's now living out of a van in Iowa. Meanwhile, back here in our nation's capital, we're always dealing with new challenges. I'm happy to report that the Secret Service, thanks to some excellent reporting by White House correspondents, they're really focusing on some of the issues that have come up. And they finally figured out a full-proof way to keep people off my lawn. , It works. And it's not just fence-jumpers. As some of you know, a few months ago, a drone crash-landed out back. That was pretty serious, but don't worry, we've installed a new, state-of-the-art security system. , You know what, let me set the record straight. I tease Joe sometimes, but he has been at my side for seven years now. I love that man. He's not just a great Vice President, he is a great friend. We've gotten so close, in some places in Indiana, they won't serve us pizza anymore. I want to thank our host for the evening, a Chicago girl, the incredibly talented Cecily Strong. On \"Saturday Night Live,\" Cecily impersonates CNN anchor Brooke Baldwin. Which is surprising, because usually the only people impersonating journalists on CNN are journalists on CNN. ABC is here with some of the stars from their big new comedy, \"Black-ish. \"It's a great show, but I have to give ABC fair warning -- being \"Black-ish\" only makes you popular for so long. Trust me. There's a shelf life to that thing. As always, the reporters here had a lot to cover over the last year. Here on the East Coast, one big story was the brutal winter. The polar vortex caused so many record lows, they renamed it \"MSNBC.\", But of course, let's face it, there is one issue on every reporter's mind and that is 2016. Already, we've seen some missteps. It turns out Jeb Bush identified himself as \"Hispanic\" back in 2009. Which you know what, look, I understand. It's an innocent mistake. Reminds me of when I identified myself as \"American\" back in 1961. Ted Cruz said that denying the existence of climate change made him like Galileo. Now that's not really an apt comparison. Galileo believed the Earth revolves around the sun. Ted Cruz believes the Earth revolves around Ted Cruz. And just as an aside, I want to point out, when a guy who has his face on a \"Hope\" poster calls you self-centered, you know you've got a problem. The narcissism index is creeping up a little too high. Meanwhile, Rick Santorum announced that he would not attend the same-sex wedding of a friend or a loved one. To which gays and lesbians across the country responded, that's not going to be a problem. Don't sweat that one. And Donald Trump is here. Still., Anyway. It's amazing how time flies. Soon, the first presidential contest will take place. And I for one cannot wait to see who the Koch brothers pick. It's exciting. Marco Rubio, Rand Paul, Ted Cruz, Jeb Bush, Scott Walker. Who will finally get that red rose? The winner gets a billion-dollar war chest. The runner up gets to be the bachelor on the next season of \"The Bachelor. \"I mean, seriously, a billion dollars. From just two guys. Is it just me, or does that feel a little excessive? I mean, it's almost insulting to the candidates. The Koch brothers think they need to spend a billion dollars to get folks to like one of these people. It's got to hurt their feelings a little bit. And, look, I know I've raised a lot of money too. But in all fairness, my middle name is \"Hussein. \"What's their excuse? , The trail hasn't been easy for my fellow Democrats either. As we all know, Hillary's private emails got her in trouble. Frankly, I thought it was going to be her private Instagram account that was going to cause her bigger problems., , Hillary kicked things off by going completely unrecognized at a Chipotle. Not to be outdone, Martin O'Malley kicked things off by going completely unrecognized at a Martin O'Malley campaign event., And Bernie Sanders might run. I like Bernie. Bernie is an interesting guy. Apparently some folks really want to see a pot-smoking socialist in the White House. We could get a third Obama term after all. It could happen. Anyway, as always, I want to close on a more serious note. I often joke about tensions between me and the press, but honestly, what they say doesn't bother me. I understand we've got an adversarial system. I'm a mellow sort of guy., And that's why I invited Luther, my anger translator, to join me here tonight. , [Enter Luther], , Luther: Hold on to your lily-white butts. President Obama: In our fast-changing world, traditions like the White House Correspondents' Dinner are important., Luther: I mean, really, what is this dinner? And why am I required to come to it? Jeb Bush, do you really want to do this?, President Obama: Because despite our differences, we count on the press to shed light on the most important issues of the day., Luther: And we can count on Fox News to terrify old white people with some nonsense!\" Sharia law is coming to Cleveland. Run for the damn hills! \"Y'all, it's ridiculous. President Obama: We won't always see eye to eye. Luther:Oh, and CNN, thank you so much for the wall-to-wall Ebola coverage. For two whole weeks, we were one step away from the Walking Dead. And then you all got up and just moved on to the next day. That was awesome. Oh, and by the way, just if you haven't noticed, you don't have Ebola!, President Obama: But I still deeply appreciate the work that you do. Luther: Ya'll remember when I had that big, old hole in the bottom of the Gulf of Mexico and then I plugged it? Remember that? Which \"Obama's Katrina\" was that one? Was that 19? Or was it 20? Because I can't remember. President Obama: Protecting our democracy is more important than ever. For example, the Supreme Court ruled that the donor who gave Ted Cruz 6 million dollars was just exercising free speech. Luther: Yeah, that's the kind of speech like this, \"I just wasted six million dollars.\" , President Obama: And it's not just Republicans. Hillary will have to rage [raise] huge sums of money, too. Luther: Oh, yes. She's going to get that money. She's going to get all the money. Khaleesi is coming to Westeros. So watch out!, President Obama: The nonstop focus on billionaire donors creates real problems for our democracy. Luther: And that's why we're running for a third term!, President Obama: No, we're not. Luther: We're not?, President Obama: No. Luther:Who the hell said that?, President Obama: But we do need to stay focused on some big challenges, like climate change. Luther: Hey, listen, ya'll, if you haven't noticed, California is bone dry. It looks like a trailer for the new \"Mad Max\" movie up in there. Ya'll think that Bradley Cooper came here because he wants to talk to Chuck Todd? He needed a glass of water. Come on!, President Obama: The science is clear. Nine of the ten hottest years ever came in the last decade. Luther: Now, I'm not a scientist, but I do know how to count to 10. President Obama: Rising seas, more violent storms. Luther: We've got mosquitoes. Sweaty people on the train, stinking it up. It's just nasty. President Obama: I mean, look at what's happening right now. Every serious scientist says we need to act. The Pentagon says it's a national security risk. Miami floods on a sunny day, and instead of doing anything about it, we've got elected officials throwing snowballs in the Senate!, Luther: Okay, Mr. President. Okay, I think they've got it, bro., President Obama: It is crazy! What about our kids? What kind of stupid, shortsighted, irresponsible bull --, Luther: Wow! Hey! , President Obama: What?!, Luther: All due respect, sir. You don't need an anger translator. You need counseling. So I'm out of here, man. I ain't trying to get into all this. President Obama: Go. , Luther: He crazy. , President Obama: Luther, my anger translator, ladies and gentlemen., Now that I got that off my chest. Investigative journalism; explanatory journalism; journalism that exposes corruption and injustice and gives a voice to the different, the marginalized, the voiceless -- that's power. It's a privilege. It's as important to America's trajectory -- to our values, our ideals -- than anything that we could do in elected office. We remember journalists we lost over the past year -- journalists likeSteven Sotloff andJames Foley, murdered for nothing more than trying to shine a light into some of the world's darkest corners. We remember the journalists unjustly imprisoned around the world, including our ownJason Rezaian. For nine months, Jason has been imprisoned in Tehran for nothing more than writing about the hopes and the fears of the Iranian people, carrying their stories to the readers of the Washington Post in an effort to bridge our common humanity. As was already mentioned, Jason's brother, Ali, is here tonight and I have told him personally we will not rest until we bring him home to his family, safe and sound., These journalists and so many others view their work as more than just a profession, but as a public good; an indispensable pillar of our society. So I want to give a toast to them. I raise a glass to them and all of you, with the words of the American foreign correspondentDorothy Thompson: \"It is not the fact of liberty, but the way in which liberty is exercised, that ultimately determines whether liberty itself survives.\", Thank you for your devotion to exercising our liberty, and to telling our American story. God bless you. God bless the United States of America., , Book/CDs by Michael E. Eidenmuller, Published by McGraw-Hill (2008)]\n"
     ]
    }
   ],
   "source": [
    "print(test['speech'].replace('\\t', ''))"
   ]
  },
  {
   "cell_type": "code",
   "execution_count": 3,
   "metadata": {
    "collapsed": true
   },
   "outputs": [],
   "source": [
    "data = speech_collection"
   ]
  },
  {
   "cell_type": "code",
   "execution_count": 4,
   "metadata": {
    "collapsed": true
   },
   "outputs": [],
   "source": [
    "speeches_df = pd.DataFrame(list(data.find()))"
   ]
  },
  {
   "cell_type": "code",
   "execution_count": 5,
   "metadata": {},
   "outputs": [
    {
     "data": {
      "text/html": [
       "<div>\n",
       "<style scoped>\n",
       "    .dataframe tbody tr th:only-of-type {\n",
       "        vertical-align: middle;\n",
       "    }\n",
       "\n",
       "    .dataframe tbody tr th {\n",
       "        vertical-align: top;\n",
       "    }\n",
       "\n",
       "    .dataframe thead th {\n",
       "        text-align: right;\n",
       "    }\n",
       "</style>\n",
       "<table border=\"1\" class=\"dataframe\">\n",
       "  <thead>\n",
       "    <tr style=\"text-align: right;\">\n",
       "      <th></th>\n",
       "      <th>_id</th>\n",
       "      <th>name</th>\n",
       "      <th>speech</th>\n",
       "    </tr>\n",
       "  </thead>\n",
       "  <tbody>\n",
       "    <tr>\n",
       "      <th>0</th>\n",
       "      <td>5c65ea0591d56f5d4a54b9fe</td>\n",
       "      <td>barackobamairaqwarspeechfederalplaza</td>\n",
       "      <td>[Good afternoon. Let begin by saying that alth...</td>\n",
       "    </tr>\n",
       "    <tr>\n",
       "      <th>1</th>\n",
       "      <td>5c65ea0691d56f5d4a54b9ff</td>\n",
       "      <td>barackobama2004dnc</td>\n",
       "      <td>[On behalf of the great state of Illinois, cro...</td>\n",
       "    </tr>\n",
       "    <tr>\n",
       "      <th>2</th>\n",
       "      <td>5c65ea0891d56f5d4a54ba00</td>\n",
       "      <td>barackobamasenatespeechonohioelectoralvotes</td>\n",
       "      <td>[Thank you very much, Mr. President; Ladies an...</td>\n",
       "    </tr>\n",
       "    <tr>\n",
       "      <th>3</th>\n",
       "      <td>5c65ea0b91d56f5d4a54ba01</td>\n",
       "      <td>barackobamaknoxcollege</td>\n",
       "      <td>[Good morning President \\tTaylor, Board of Tru...</td>\n",
       "    </tr>\n",
       "    <tr>\n",
       "      <th>4</th>\n",
       "      <td>5c65ea0d91d56f5d4a54ba02</td>\n",
       "      <td>barackobamasenatespeechrosaparks</td>\n",
       "      <td>[Mr. President, today the nation mourns a genu...</td>\n",
       "    </tr>\n",
       "  </tbody>\n",
       "</table>\n",
       "</div>"
      ],
      "text/plain": [
       "                        _id                                         name  \\\n",
       "0  5c65ea0591d56f5d4a54b9fe         barackobamairaqwarspeechfederalplaza   \n",
       "1  5c65ea0691d56f5d4a54b9ff                           barackobama2004dnc   \n",
       "2  5c65ea0891d56f5d4a54ba00  barackobamasenatespeechonohioelectoralvotes   \n",
       "3  5c65ea0b91d56f5d4a54ba01                       barackobamaknoxcollege   \n",
       "4  5c65ea0d91d56f5d4a54ba02             barackobamasenatespeechrosaparks   \n",
       "\n",
       "                                              speech  \n",
       "0  [Good afternoon. Let begin by saying that alth...  \n",
       "1  [On behalf of the great state of Illinois, cro...  \n",
       "2  [Thank you very much, Mr. President; Ladies an...  \n",
       "3  [Good morning President \\tTaylor, Board of Tru...  \n",
       "4  [Mr. President, today the nation mourns a genu...  "
      ]
     },
     "execution_count": 5,
     "metadata": {},
     "output_type": "execute_result"
    }
   ],
   "source": [
    "speeches_df.head()"
   ]
  },
  {
   "cell_type": "code",
   "execution_count": 10,
   "metadata": {},
   "outputs": [
    {
     "data": {
      "text/plain": [
       "0      [Good afternoon. Let begin by saying that alth...\n",
       "1      [On behalf of the great state of Illinois, cro...\n",
       "2      [Thank you very much, Mr. President; Ladies an...\n",
       "3      [Good morning President Taylor, Board of Trust...\n",
       "4      [Mr. President, today the nation mourns a genu...\n",
       "5      [Thank you very much, Mr. President. You know,...\n",
       "6      [Thank you very much, Mr. President. Today, we...\n",
       "7      [Mr. President, I rise today both humbled and ...\n",
       "8      [As many of you know, over the last few months...\n",
       "9      [Hello Springfield! ...Look at all of you. Loo...\n",
       "10     [Thank you. Thank you. Giving all praise and h...\n",
       "11     [Mr. President, I rise, first, to offer strong...\n",
       "12     [[AUTHENTICITY CERTIFIED: Text version below t...\n",
       "13     [Mr. President, , Last year I spoke, 1, at one...\n",
       "14     [Thank you. Thank you so much. Let me begin fo...\n",
       "15     [Thank you so much. To -- To the great Governo...\n",
       "16     [click for pdfclick for flash, Thank you, Iowa...\n",
       "17     [Thank you, New Hampshire. I love you back. Th...\n",
       "18     [Scripture tells us that when Joshua and the I...\n",
       "19     [Thank you, South Carolina. Thank you to the r...\n",
       "20     [Let me begin by thankingHarris Wofford for hi...\n",
       "21     [Thank you....Thank you. What a -- What a wond...\n",
       "22     [Thank you very much, everybody, and I very mu...\n",
       "23     [*Thank you to the citizens of Berlin and* -- ...\n",
       "24     [Thank you so much. Thank you very much. Thank...\n",
       "25     [Thank you very much, Madam President. And tha...\n",
       "26     [Hello, Chicago. If there is anyone out there ...\n",
       "27     [This morning we woke up to more sobering news...\n",
       "28     [On Tuesday, Americans stood in line[s] that s...\n",
       "29     [Today the leaders of the G-20 nations, a grou...\n",
       "                             ...                        \n",
       "433    [Hello, America!, Hello, Democrats!, So, twelv...\n",
       "434    [Good afternoon, everybody. I just met again w...\n",
       "435    [Well, to begin with, I just want to say thank...\n",
       "436    [Good evening, everybody. Let me begin by than...\n",
       "437    [President Obama: Thank you so much. Thank you...\n",
       "438    [Good afternoon, everybody. Once again, I want...\n",
       "439    [Good morning. Scripture tells us, “Let not st...\n",
       "440    [Good morning, everybody. I want to say a few ...\n",
       "441    [Mr. President; Mr. Secretary General; fellow ...\n",
       "442    [James Baldwin once wrote, For while the tale ...\n",
       "443    [Zvia, Yoni, Chemi and generations of the Pere...\n",
       "444    [Good afternoon, everybody. Yesterday, before ...\n",
       "445    [President Obama: Well, I just had the opportu...\n",
       "446    [Hello, everybody. Hello, hello. Hello, everyb...\n",
       "447    [Hello, Greece! Yia sas! Kalispera! [Good even...\n",
       "448    [, Book/CDs by Michael E. Eidenmuller, Publish...\n",
       "449    [President Obama: Hola Peru! Asu! Muchas graci...\n",
       "450    [Good evening, everybody. Let me begin by than...\n",
       "451    [Well, good evening, everybody. On behalf of M...\n",
       "452    [Good afternoon, everybody. I was just told th...\n",
       "453    [Good afternoon. This is the most wonderful pr...\n",
       "454    [President Obama: Prime Minister Abe, on behal...\n",
       "455    [Well, good afternoon. It turns out these are ...\n",
       "456    [President Obama: Thank you. Good morning. Ms....\n",
       "457    [My fellow Americans:, Michelle and I have bee...\n",
       "458    [Welcome to the White House, everybody. As I h...\n",
       "459    [This week, I traveled to Chicago to deliver m...\n",
       "460    [They said this day would never come. 1,2, Her...\n",
       "461    [Good afternoon, everybody. Let me start out b...\n",
       "462    [Michelle and I, we've really been milking thi...\n",
       "Name: speech, Length: 463, dtype: object"
      ]
     },
     "execution_count": 10,
     "metadata": {},
     "output_type": "execute_result"
    }
   ],
   "source": [
    "speeches_df['speech'].apply(lambda x: x.replace('\\t', ''))"
   ]
  },
  {
   "cell_type": "code",
   "execution_count": 7,
   "metadata": {
    "collapsed": true
   },
   "outputs": [],
   "source": [
    "text = speeches_df['speech'].apply(lambda x: x.replace('\\t', ''))"
   ]
  },
  {
   "cell_type": "code",
   "execution_count": 39,
   "metadata": {
    "collapsed": true
   },
   "outputs": [],
   "source": [
    "text.to_csv('speech_data.txt', index=False)"
   ]
  },
  {
   "cell_type": "code",
   "execution_count": null,
   "metadata": {
    "collapsed": true
   },
   "outputs": [],
   "source": [
    "from .."
   ]
  },
  {
   "cell_type": "code",
   "execution_count": null,
   "metadata": {
    "collapsed": true
   },
   "outputs": [],
   "source": []
  }
 ],
 "metadata": {
  "kernelspec": {
   "display_name": "Python 3",
   "language": "python",
   "name": "python3"
  },
  "language_info": {
   "codemirror_mode": {
    "name": "ipython",
    "version": 3
   },
   "file_extension": ".py",
   "mimetype": "text/x-python",
   "name": "python",
   "nbconvert_exporter": "python",
   "pygments_lexer": "ipython3",
   "version": "3.6.8"
  }
 },
 "nbformat": 4,
 "nbformat_minor": 2
}
