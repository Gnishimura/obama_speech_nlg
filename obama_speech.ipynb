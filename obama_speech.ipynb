{
 "cells": [
  {
   "cell_type": "code",
   "execution_count": 1,
   "metadata": {
    "collapsed": true
   },
   "outputs": [],
   "source": [
    "from pymongo import MongoClient\n",
    "import requests\n",
    "import time\n",
    "import random\n",
    "from bs4 import BeautifulSoup\n",
    "from selenium.webdriver import Chrome\n",
    "from selenium import webdriver\n",
    "import re\n"
   ]
  },
  {
   "cell_type": "code",
   "execution_count": 3,
   "metadata": {
    "collapsed": true
   },
   "outputs": [],
   "source": [
    "website = \"http://www.americanrhetoric.com/barackobamaspeeches.htm\"\n",
    "r = requests.get(website)\n",
    "page = BeautifulSoup(r.content, features='lxml')"
   ]
  },
  {
   "cell_type": "code",
   "execution_count": 4,
   "metadata": {},
   "outputs": [
    {
     "name": "stdout",
     "output_type": "stream",
     "text": [
      "468\n"
     ]
    }
   ],
   "source": [
    "def filter_link(link):\n",
    "    href = link.get('href')\n",
    "    if href:\n",
    "        return href.startswith('speeches') and href.endswith('.htm')\n",
    "\n",
    "links = page.find_all('a')\n",
    "urls = filter(filter_link, links)\n",
    "urls = [url.get('href') for url in urls]\n",
    "print(len(urls))  #467 speeches in total"
   ]
  },
  {
   "cell_type": "code",
   "execution_count": 5,
   "metadata": {
    "collapsed": true
   },
   "outputs": [],
   "source": [
    "def get_url(link):\n",
    "    pre = 'http://www.americanrhetoric.com/'\n",
    "    return pre + link\n",
    "\n",
    "full_urls = []\n",
    "for url in urls:\n",
    "    full_urls.append(get_url(url))"
   ]
  },
  {
   "cell_type": "code",
   "execution_count": 6,
   "metadata": {
    "collapsed": true
   },
   "outputs": [],
   "source": [
    "def scrape_ar(url):\n",
    "    \"\"\"Scrape pages at random 5-15 sec intervals\"\"\"\n",
    "    browser.get(url)\n",
    "    time.sleep(5 + random.random() * 10)\n",
    "    return browser.page_source"
   ]
  },
  {
   "cell_type": "code",
   "execution_count": 9,
   "metadata": {},
   "outputs": [],
   "source": [
    "browser = Chrome()\n",
    "first_speech_html = scrape_ar(full_urls[0])\n"
   ]
  },
  {
   "cell_type": "code",
   "execution_count": 10,
   "metadata": {},
   "outputs": [
    {
     "data": {
      "text/plain": [
       "'<!DOCTYPE html PUBLIC \"-//w3c//dtd html 4.0 transitional//en\"><html xmlns=\"http://www.w3.org/1999/xhtml\"><head>\\n<meta name=\"Distribution\" content=\"Global\" />\\n<meta name=\"description\" content=\"Transcript of Barack Obama 2002 Speech Opposing the War in Iraq\" />\\n<meta name=\"keywords\" content=\"obama 2002 iraq war speech, obama anti iraq war speech\" />\\n<meta http-equiv=\"Content-Type\" content=\"text/html; charset=windows-1252\" />\\n<meta name=\"Title\" content=\"Barack Obama - Speech Opposing the War in Iraq at Federal Plaza, Chicago\" />\\n<title>American Rhetoric: Barack Obama - Speech on the Iraq War at Federal \\nPlaza, Chicago </title>\\n<link rel=\"preload\" href=\"https://adservice.google.com/adsid/integrator.js?domain=www.americanrhetoric.com\" as=\"script\" /><script src=\"https://www.googletagservices.com/activeview/js/current/osd.js?cb=%2Fr20100101\"></script><script src=\"https://pagead2.googlesyndication.com/pub-config/r20160913/ca-pub-4540749582151874.js\"></script><script src=\"https://pagead2.googlesyndication.com/pub-config/r20160913/ca-pub-4540749582151874.js\"></script><script type=\"text/javascript\" src=\"https://adservice.google.com/adsid/integrator.js?domain=www.americanrhetoric.com\"></script><link rel=\"preload\" href=\"https://pagead2.googlesyndication.com/pagead/js/r20190212/r20190131/show_ads_impl.js\" as=\"script\" /></head>\\n<body link=\"#FFFFFF\" vlink=\"#FFFF00\" topmargin=\"0\" leftmargin=\"0\" bgcolor=\"#00002D\">\\n<div align=\"center\">\\n<a href=\"https://www.americanrhetoric.com/\">\\n<img border=\"0\" src=\"../../images/ARLogoSpeechBanksubs.jpg\" width=\"745\" height=\"122\" /></a><p>\\n</p><div align=\"center\"><script type=\"text/javascript\">\\n    google_ad_client = \"ca-pub-4540749582151874\";\\n    google_ad_slot = \"9378812830\";\\n    google_ad_width = 728;\\n    google_ad_height = 90;\\n</script>\\n<!-- New Leaderboard -->\\n<script type=\"text/javascript\" src=\"//pagead2.googlesyndication.com/pagead/show_ads.js\">\\n</script><ins id=\"aswift_0_expand\" style=\"display:inline-table;border:none;height:90px;margin:0;padding:0;position:relative;visibility:visible;width:728px;background-color:transparent;\" data-ad-slot=\"9378812830\"><ins id=\"aswift_0_anchor\" style=\"display:block;border:none;height:90px;margin:0;padding:0;position:relative;visibility:visible;width:728px;background-color:transparent;\"><iframe width=\"728\" height=\"90\" frameborder=\"0\" marginwidth=\"0\" marginheight=\"0\" vspace=\"0\" hspace=\"0\" allowtransparency=\"true\" scrolling=\"no\" allowfullscreen=\"true\" onload=\"var i=this.id,s=window.google_iframe_oncopy,H=s&amp;&amp;s.handlers,h=H&amp;&amp;H[i],w=this.contentWindow,d;try{d=w.document}catch(e){}if(h&amp;&amp;d&amp;&amp;(!d.body||!d.body.firstChild)){if(h.call){setTimeout(h,0)}else if(h.match){try{h=s.upd(h,i)}catch(e){}w.location.replace(h)}}\" id=\"aswift_0\" name=\"aswift_0\" style=\"left:0;position:absolute;top:0;border:0px;width:728px;height:90px;\"></iframe></ins></ins></div><p></p>\\n<table border=\"0\" cellpadding=\"0\" style=\"border-collapse: collapse; padding-left: 30px; padding-right: 30px; padding-top: 10px; padding-bottom: 10px\" bordercolor=\"#111111\" width=\"745\" id=\"AutoNumber1\" bgcolor=\"#FFFFFF\">\\n<tbody><tr><td width=\"77%\" style=\"padding-left: 40px; padding-right: 40px; padding-top: 7px; padding-bottom: 11px\" align=\"center\">\\n<p align=\"center\">\\n</p>\\n<p align=\"center\"></p>\\n<p align=\"center\">\\n</p>\\n<p align=\"center\"></p><p align=\"center\">\\n\\xa0</p>\\n<p align=\"center\"><b><font size=\"6\" color=\"#00004A\">B</font><font size=\"5\"><font color=\"#CE0A04\">arack</font> </font>\\n<font size=\"6\" color=\"#00004A\">O</font><font size=\"5\" color=\"#CE0A04\">bama</font></b></p>\\n<p align=\"center\"><font color=\"#00004A\"><b><i>Speech Opposing the War in Iraq at Federal Plaza</i></b></font></p>\\n<p align=\"center\"></p>\\n<p align=\"center\"><font size=\"1\" face=\"Arial\" color=\"#CE0A04\">delivered 2 October 2002, Chicago, \\nIllinois</font></p>\\n<p align=\"center\"><font face=\"Arial\" size=\"1\">\\n<a href=\"../../mp3clips/barackobama/barackobamafederalplaza.mp3\">\\n<font color=\"#0000FF\">Brief Audio mp3 Clip of Address</font></a></font></p><p align=\"center\">\\n</p><p align=\"center\"></p><p align=\"center\"><audio controls=\"\" style=\"width: 275px; height: 40px;\">\\n\\n<source src=\"../../mp3clips/barackobama/barackobamafederalplaza.mp3\" type=\"audio/mpeg\" />\\n<font size=\"1\" face=\"Arial\">Your browser does not support the audio element.\\n</font></audio><font size=\"1\" face=\"Arial\"> </font>  </p><p align=\"center\">\\n</p><p></p><p></p>\\n<p></p>\\n\\t\\t<p align=\"left\">\\xa0</p>\\n<p align=\"left\"><font face=\"Arial\" size=\"1\" color=\"#FF0000\">[text \\n\\t\\tunauthenticated]</font></p>\\n<p align=\"left\" style=\"line-height: 130%\"><font size=\"2\" face=\"Verdana\">Good afternoon. Let begin by saying that \\n\\t\\talthough this has been billed as an anti-war rally, I stand before you \\n\\t\\tas someone who is not opposed to war in all circumstances.</font></p>\\n\\t\\t<p align=\"left\" style=\"line-height: 130%\"><font size=\"2\" face=\"Verdana\">The Civil War was one of the bloodiest in \\n\\t\\thistory, and yet it was only through the crucible of the sword, the \\n\\t\\tsacrifice of multitudes, that we could begin to perfect this union, and \\n\\t\\tdrive the scourge of slavery from our soil.</font></p>\\n\\t\\t<p align=\"left\" style=\"line-height: 130%\"><font size=\"2\" face=\"Verdana\">I don’t oppose all wars.</font></p>\\n\\t\\t<p align=\"left\" style=\"line-height: 130%\"><font size=\"2\" face=\"Verdana\">My grandfather signed up for a war the day after \\n\\t\\tPearl Harbor was bombed, fought in Patton’s army. He saw the dead and \\n\\t\\tdying across the fields of Europe; he heard the stories of fellow troops \\n\\t\\twho first entered Auschwitz and Treblinka. He fought in the name of a \\n\\t\\tlarger freedom, part of that arsenal of democracy that triumphed over \\n\\t\\tevil, and he did not fight in vain.</font></p>\\n\\t\\t<p align=\"left\" style=\"line-height: 130%\"><font size=\"2\" face=\"Verdana\">I don’t oppose all wars.</font></p>\\n\\t\\t<p align=\"left\" style=\"line-height: 130%\"><font size=\"2\" face=\"Verdana\">After September 11th, after witnessing the \\n\\t\\tcarnage and destruction, the dust and the tears, I supported this \\n\\t\\tAdministration’s pledge to hunt down and root out those who would \\n\\t\\tslaughter innocents in the name of intolerance, and I would willingly \\n\\t\\ttake up arms myself to prevent such tragedy from happening again.</font></p>\\n\\t\\t<p align=\"left\" style=\"line-height: 130%\"><font size=\"2\" face=\"Verdana\">I don’t oppose war in all \\n\\t\\tcircumstances, and when I look out over this crowd today, I know there is no shortage of patriots or patriotism. What I \\n\\t\\tdo oppose is a dumb war. What I am \\n\\t\\topposed to is a rash war. What I am opposed to is the cynical attempt by \\n\\t\\tRichard Perles and Paul Wolfowitz and other arm-chair, weekend warriors \\n\\t\\tin this Administration to shove their own ideological agendas down our \\n\\t\\tthroats, irrespective of the costs in lives lost and in hardships borne.</font></p>\\n\\t\\t<p align=\"left\" style=\"line-height: 130%\"><font size=\"2\" face=\"Verdana\">What I am opposed to is the attempt by political \\n\\t\\thacks like Karl Roves to distract us from a rise in the uninsured, a \\n\\t\\trise in the poverty rate, a drop in the median income -- to distract us \\n\\t\\tfrom corporate scandals and a stock market that has just gone thru the \\n\\t\\tworst month since the Great Depression.</font></p>\\n\\t\\t<p align=\"left\" style=\"line-height: 130%\"><font size=\"2\" face=\"Verdana\">That’s what I’m opposed to. A dumb war. A rash \\n\\t\\twar. A war based not on reason but on passion, not on principle but on \\n\\t\\tpolitics.</font></p>\\n\\t\\t<p align=\"left\" style=\"line-height: 130%\"><font size=\"2\" face=\"Verdana\">Now let me be clear -- I suffer no illusions \\n\\t\\tabout Saddam Hussein. He is a brutal man. A ruthless man. A man who \\n\\t\\tbutchers his own people to secure his own power. He has repeatedly \\n\\t\\tdefied UN resolutions, thwarted UN inspection teams, developed chemical \\n\\t\\tand biological weapons, and coveted nuclear capacity.</font></p>\\n\\t\\t<p align=\"left\" style=\"line-height: 130%\"><font size=\"2\" face=\"Verdana\">He’s a bad guy. The world, and the Iraqi people, \\n\\t\\twould be better off without him.</font></p>\\n\\t\\t<p align=\"left\" style=\"line-height: 130%\"><font size=\"2\" face=\"Verdana\">But I also know that Saddam poses no imminent \\n\\t\\tand direct threat to the United States, or to his neighbors, that the \\n\\t\\tIraqi economy is in shambles, that the Iraqi military a fraction of its \\n\\t\\tformer strength, and that in concert with the international community he \\n\\t\\tcan be contained until, in the way of all petty dictators, he falls away \\n\\t\\tinto the dustbin of history.</font></p>\\n\\t\\t<p align=\"left\" style=\"line-height: 130%\"><font size=\"2\" face=\"Verdana\">I know that even a successful war against Iraq \\n\\t\\twill require a US occupation of undetermined length, at undetermined \\n\\t\\tcost, with undetermined consequences.</font></p>\\n\\t\\t<p align=\"left\" style=\"line-height: 130%\"><font size=\"2\" face=\"Verdana\">I know that an invasion of Iraq without a clear \\n\\t\\trationale and without strong international support will only fan the \\n\\t\\tflames of the middle east, and encourage the worst, rather than best, \\n\\t\\timpulses of the Arab world, and strengthen the recruitment arm of Al \\n\\t\\tQaeda.</font></p>\\n\\t\\t<p align=\"left\" style=\"line-height: 130%\"><font size=\"2\" face=\"Verdana\">I am not opposed to all wars. I’m opposed to \\n\\t\\tdumb wars.</font></p>\\n\\t\\t<p align=\"left\" style=\"line-height: 130%\"><font size=\"2\" face=\"Verdana\">So for those of us who seek a more just and \\n\\t\\tsecure world for our children, let us send a clear message to the \\n\\t\\tpresident today.</font></p>\\n\\t\\t<p align=\"left\" style=\"line-height: 130%\"><font size=\"2\" face=\"Verdana\">You want a fight, President Bush? Let’s finish \\n\\t\\tthe fight with Bin Laden and Al Qaeda, thru effective, coordinated \\n\\t\\tintelligence, and a shutting down of the financial networks that support \\n\\t\\tterrorism, and a homeland security program that involves more than \\n\\t\\tcolor-coded warnings.</font></p>\\n\\t\\t<p align=\"left\" style=\"line-height: 130%\"><font size=\"2\" face=\"Verdana\">You want a fight, President Bush? Let’s fight to \\n\\t\\tmake sure that the UN inspectors can do their work, and that we \\n\\t\\tvigorously enforce a non-proliferation treaty, and that former enemies \\n\\t\\tand current allies like Russia safeguard and ultimately eliminate their \\n\\t\\tstores of nuclear material, and that nations like Pakistan and India \\n\\t\\tnever use the terrible weapons in already in their possession, and that \\n\\t\\tthe arms merchants in our own country stop feeding the countless wars \\n\\t\\tthat rage across the globe.</font></p>\\n\\t\\t<p align=\"left\" style=\"line-height: 130%\"><font size=\"2\" face=\"Verdana\">You want a fight, President Bush? Let’s fight to \\n\\t\\tmake sure our so-called allies in the Middle East, the Saudis and the \\n\\t\\tEgyptians, stop oppressing their own people, and suppressing dissent, \\n\\t\\tand tolerating corruption and inequality, and mismanaging their \\n\\t\\teconomies so that their youth grow up without education, without \\n\\t\\tprospects, without hope, the ready recruits of terrorist cells.</font></p>\\n\\t\\t<p align=\"left\" style=\"line-height: 130%\"><font size=\"2\" face=\"Verdana\">You want a fight, President Bush? Let’s fight to \\n\\t\\twean ourselves off Middle East oil, through an energy policy that \\n\\t\\tdoesn’t simply serve the interests of Exxon and Mobil.</font></p>\\n\\t\\t<p align=\"left\" style=\"line-height: 130%\"><font size=\"2\" face=\"Verdana\">Those are the battles that we need to fight. \\n\\t\\tThose are the battles that we willingly join. The battles against \\n\\t\\tignorance and intolerance. Corruption and greed. Poverty and despair.</font></p>\\n\\t\\t<p align=\"left\" style=\"line-height: 130%\"><font size=\"2\" face=\"Verdana\">The consequences of war are dire, the sacrifices \\n\\t\\timmeasurable. We may have occasion in our lifetime to once again rise up \\n\\t\\tin defense of our freedom, and pay the wages of war. But we ought not -- \\n\\t\\twe will not -- travel down that hellish path blindly. Nor should we allow \\n\\t\\tthose who would march off and pay the ultimate sacrifice, who would \\n\\t\\tprove the full measure of devotion with their blood, to make such an \\n\\t\\tawful sacrifice in vain.</font></p>\\n\\t\\t<hr />\\n<font size=\"1\" face=\"Arial\" color=\"#000000\" p=\"\"></font><p align=\"left\"><font size=\"1\" face=\"Arial\" color=\"#000000\" p=\"\">\\n\\t\\t<font face=\"Arial\" size=\"1\"><u>Text Source</u>: \\n\\t\\t</font></font>\\n<font size=\"1\" face=\"Arial\">Wikipedia.org</font></p><p align=\"left\"><b>\\n<font face=\"Arial\" size=\"1\" color=\"#008000\"><u>Page Updated</u>: 7/30/18</font></b></p>\\n<p align=\"left\"><font face=\"Arial\" size=\"1\"><u>U.S. Copyright Status</u>:<b>\\n\\n<font color=\"#FF3300\">\\n<a href=\"http://creativecommons.org/licenses/by-sa/3.0/\" style=\"text-decoration: none\">\\n<font color=\"#008000\">Text =\\n</font></a><font color=\"#008000\"><a href=\"https://creativecommons.org/licenses/by-sa/3.0/\"><font color=\"#008000\">\\nCC </font></a></font><font color=\"#008000\">\\n<a href=\"https://creativecommons.org/licenses/by-sa/3.0/\"><font color=\"#008000\">\\nBY-SA 3.0</font></a>. </font>Audio = Uncertain.</font></b></font></p></td>\\n<td width=\"161\" style=\"padding-left: 5px; padding-right: 5px; padding-top: 7px; padding-bottom: 11px\" align=\"center\" bgcolor=\"#940F04\" valign=\"top\" bordercolor=\"#940F04\">\\n<p>\\xa0</p>\\n<p>\\xa0</p>\\n<p>\\xa0</p>\\n<p>\\xa0</p>\\n<p>\\xa0</p>\\n<p>\\xa0</p>\\n<p>\\xa0</p>\\n<p>\\xa0</p>\\n<p>\\xa0</p>\\n<p>\\xa0</p>\\n<p>\\xa0</p>\\n<p>\\xa0</p>\\n<p>\\xa0</p>\\n<p>\\xa0</p>\\n<p>\\xa0</p>\\n<p>\\xa0</p>\\n<p>\\xa0</p>\\n<script async=\"\" src=\"//pagead2.googlesyndication.com/pagead/js/adsbygoogle.js\"></script>\\n<!-- VerticleSkyScraperNEW -->\\n<ins class=\"adsbygoogle\" style=\"display:inline-block;width:160px;height:600px\" data-ad-client=\"ca-pub-4540749582151874\" data-ad-slot=\"4043161684\" data-adsbygoogle-status=\"done\"><ins id=\"aswift_2_expand\" style=\"display:inline-table;border:none;height:600px;margin:0;padding:0;position:relative;visibility:visible;width:160px;background-color:transparent;\"><ins id=\"aswift_2_anchor\" style=\"display:block;border:none;height:600px;margin:0;padding:0;position:relative;visibility:visible;width:160px;background-color:transparent;\"><iframe width=\"160\" height=\"600\" frameborder=\"0\" marginwidth=\"0\" marginheight=\"0\" vspace=\"0\" hspace=\"0\" allowtransparency=\"true\" scrolling=\"no\" allowfullscreen=\"true\" onload=\"var i=this.id,s=window.google_iframe_oncopy,H=s&amp;&amp;s.handlers,h=H&amp;&amp;H[i],w=this.contentWindow,d;try{d=w.document}catch(e){}if(h&amp;&amp;d&amp;&amp;(!d.body||!d.body.firstChild)){if(h.call){setTimeout(h,0)}else if(h.match){try{h=s.upd(h,i)}catch(e){}w.location.replace(h)}}\" id=\"aswift_2\" name=\"aswift_2\" style=\"left:0;position:absolute;top:0;border:0px;width:160px;height:600px;\"></iframe></ins></ins></ins>\\n<script>\\n(adsbygoogle = window.adsbygoogle || []).push({});\\n</script><p align=\"center\">\\n</p></td></tr></tbody></table>\\n<p></p><div align=\"center\"><script type=\"text/javascript\">\\n    google_ad_client = \"ca-pub-4540749582151874\";\\n    google_ad_slot = \"7079952559\";\\n    google_ad_width = 336;\\n    google_ad_height = 280;\\n</script>\\n<!-- New Large Rectangle -->\\n<script type=\"text/javascript\" src=\"//pagead2.googlesyndication.com/pagead/show_ads.js\">\\n</script><ins id=\"aswift_1_expand\" style=\"display: inline-table; border: none; height: 0px; margin: 0px; padding: 0px; position: relative; visibility: visible; width: 336px; background-color: transparent;\" data-ad-slot=\"7079952559\"><ins id=\"aswift_1_anchor\" style=\"display: block; border: none; height: 0px; margin: 0px; padding: 0px; position: relative; visibility: visible; width: 336px; background-color: transparent; overflow: hidden; opacity: 0;\"><iframe width=\"336\" height=\"280\" frameborder=\"0\" marginwidth=\"0\" marginheight=\"0\" vspace=\"0\" hspace=\"0\" allowtransparency=\"true\" scrolling=\"no\" allowfullscreen=\"true\" onload=\"var i=this.id,s=window.google_iframe_oncopy,H=s&amp;&amp;s.handlers,h=H&amp;&amp;H[i],w=this.contentWindow,d;try{d=w.document}catch(e){}if(h&amp;&amp;d&amp;&amp;(!d.body||!d.body.firstChild)){if(h.call){setTimeout(h,0)}else if(h.match){try{h=s.upd(h,i)}catch(e){}w.location.replace(h)}}\" id=\"aswift_1\" name=\"aswift_1\" style=\"left:0;position:absolute;top:0;border:0px;width:336px;height:280px;\"></iframe></ins></ins><p></p>\\n<center><table border=\"0\" cellpadding=\"0\" cellspacing=\"0\" style=\"border-collapse: collapse\" bordercolor=\"#111111\" width=\"265\" height=\"67\" id=\"AutoNumber2\" bgcolor=\"#800000\">\\n<tbody><tr><td width=\"265\" height=\"67\" style=\"padding-top: 10; padding-bottom: 10\">\\n<p align=\"center\"><font face=\"Arial\" size=\"4\"><a style=\"text-decoration: none; color: #FFFFFF\" href=\"../../newtop100speeches.htm\">Top 100 American Speeches</a></font></p>\\n<p align=\"center\"><font face=\"Arial\" size=\"4\">\\n<a style=\"text-decoration: none; color: #FFFFFF\" href=\"/speechbank.htm\">Online Speech Bank</a></font></p>\\n<p align=\"center\"><font face=\"Arial\" size=\"4\">\\n<a style=\"text-decoration: none; color: #FFFFFF\" href=\"../../moviespeeches.htm\">\\nMovie Speeches</a></font></p> <p align=\"center\"><font face=\"Arial\" size=\"1\" color=\"#FFFFFF\">© Copyright 2001-Present.\\xa0 <br />\\nAmerican Rhetoric.</font></p>\\n</td></tr>\\n</tbody></table>\\n</center>\\n</div>\\n\\n</div><iframe id=\"google_osd_static_frame_6169480284473\" name=\"google_osd_static_frame\" style=\"display: none; width: 0px; height: 0px;\"></iframe></body><iframe id=\"google_shimpl\" style=\"display: none;\"></iframe><iframe id=\"google_esf\" name=\"google_esf\" src=\"https://googleads.g.doubleclick.net/pagead/html/r20190212/r20190131/zrt_lookup.html#\" data-ad-client=\"ca-pub-4540749582151874\" style=\"display: none;\"></iframe></html>'"
      ]
     },
     "execution_count": 10,
     "metadata": {},
     "output_type": "execute_result"
    }
   ],
   "source": [
    "first_speech_html"
   ]
  },
  {
   "cell_type": "code",
   "execution_count": 11,
   "metadata": {
    "collapsed": true
   },
   "outputs": [],
   "source": [
    "def clean_speech(speech_data):\n",
    "    clean = re.sub('<[^<]+?>', '', str(speech_data))\n",
    "    cleaner = re.sub('\\r\\n\\t\\t', '', str(clean))\n",
    "    cleanest = re.sub('\\.,', '.', str(cleaner))\n",
    "    cleanerest = re.sub('\\r\\n', '', str(cleanest))\n",
    "    return cleanerest"
   ]
  },
  {
   "cell_type": "code",
   "execution_count": 13,
   "metadata": {
    "collapsed": true
   },
   "outputs": [],
   "source": [
    "clean = re.sub('<[^<]+?>', '', str(first_speech_html))"
   ]
  },
  {
   "cell_type": "code",
   "execution_count": 16,
   "metadata": {},
   "outputs": [
    {
     "data": {
      "text/plain": [
       "'<!DOCTYPE html PUBLIC \"-//w3c//dtd html 4.0 transitional//en\"><html xmlns=\"http://www.w3.org/1999/xhtml\"><head>\\n<meta name=\"Distribution\" content=\"Global\" />\\n<meta name=\"description\" content=\"Transcript of Barack Obama 2002 Speech Opposing the War in Iraq\" />\\n<meta name=\"keywords\" content=\"obama 2002 iraq war speech, obama anti iraq war speech\" />\\n<meta http-equiv=\"Content-Type\" content=\"text/html; charset=windows-1252\" />\\n<meta name=\"Title\" content=\"Barack Obama - Speech Opposing the War in Iraq at Federal Plaza, Chicago\" />\\n<title>American Rhetoric: Barack Obama - Speech on the Iraq War at Federal \\nPlaza, Chicago </title>\\n<link rel=\"preload\" href=\"https://adservice.google.com/adsid/integrator.js?domain=www.americanrhetoric.com\" as=\"script\" /><script src=\"https://www.googletagservices.com/activeview/js/current/osd.js?cb=%2Fr20100101\"></script><script src=\"https://pagead2.googlesyndication.com/pub-config/r20160913/ca-pub-4540749582151874.js\"></script><script src=\"https://pagead2.googlesyndication.com/pub-config/r20160913/ca-pub-4540749582151874.js\"></script><script type=\"text/javascript\" src=\"https://adservice.google.com/adsid/integrator.js?domain=www.americanrhetoric.com\"></script><link rel=\"preload\" href=\"https://pagead2.googlesyndication.com/pagead/js/r20190212/r20190131/show_ads_impl.js\" as=\"script\" /></head>\\n<body link=\"#FFFFFF\" vlink=\"#FFFF00\" topmargin=\"0\" leftmargin=\"0\" bgcolor=\"#00002D\">\\n<div align=\"center\">\\n<a href=\"https://www.americanrhetoric.com/\">\\n<img border=\"0\" src=\"../../images/ARLogoSpeechBanksubs.jpg\" width=\"745\" height=\"122\" /></a><p>\\n</p><div align=\"center\"><script type=\"text/javascript\">\\n    google_ad_client = \"ca-pub-4540749582151874\";\\n    google_ad_slot = \"9378812830\";\\n    google_ad_width = 728;\\n    google_ad_height = 90;\\n</script>\\n<!-- New Leaderboard -->\\n<script type=\"text/javascript\" src=\"//pagead2.googlesyndication.com/pagead/show_ads.js\">\\n</script><ins id=\"aswift_0_expand\" style=\"display:inline-table;border:none;height:90px;margin:0;padding:0;position:relative;visibility:visible;width:728px;background-color:transparent;\" data-ad-slot=\"9378812830\"><ins id=\"aswift_0_anchor\" style=\"display:block;border:none;height:90px;margin:0;padding:0;position:relative;visibility:visible;width:728px;background-color:transparent;\"><iframe width=\"728\" height=\"90\" frameborder=\"0\" marginwidth=\"0\" marginheight=\"0\" vspace=\"0\" hspace=\"0\" allowtransparency=\"true\" scrolling=\"no\" allowfullscreen=\"true\" onload=\"var i=this.id,s=window.google_iframe_oncopy,H=s&amp;&amp;s.handlers,h=H&amp;&amp;H[i],w=this.contentWindow,d;try{d=w.document}catch(e){}if(h&amp;&amp;d&amp;&amp;(!d.body||!d.body.firstChild)){if(h.call){setTimeout(h,0)}else if(h.match){try{h=s.upd(h,i)}catch(e){}w.location.replace(h)}}\" id=\"aswift_0\" name=\"aswift_0\" style=\"left:0;position:absolute;top:0;border:0px;width:728px;height:90px;\"></iframe></ins></ins></div><p></p>\\n<table border=\"0\" cellpadding=\"0\" style=\"border-collapse: collapse; padding-left: 30px; padding-right: 30px; padding-top: 10px; padding-bottom: 10px\" bordercolor=\"#111111\" width=\"745\" id=\"AutoNumber1\" bgcolor=\"#FFFFFF\">\\n<tbody><tr><td width=\"77%\" style=\"padding-left: 40px; padding-right: 40px; padding-top: 7px; padding-bottom: 11px\" align=\"center\">\\n<p align=\"center\">\\n</p>\\n<p align=\"center\"></p>\\n<p align=\"center\">\\n</p>\\n<p align=\"center\"></p><p align=\"center\">\\n\\xa0</p>\\n<p align=\"center\"><b><font size=\"6\" color=\"#00004A\">B</font><font size=\"5\"><font color=\"#CE0A04\">arack</font> </font>\\n<font size=\"6\" color=\"#00004A\">O</font><font size=\"5\" color=\"#CE0A04\">bama</font></b></p>\\n<p align=\"center\"><font color=\"#00004A\"><b><i>Speech Opposing the War in Iraq at Federal Plaza</i></b></font></p>\\n<p align=\"center\"></p>\\n<p align=\"center\"><font size=\"1\" face=\"Arial\" color=\"#CE0A04\">delivered 2 October 2002, Chicago, \\nIllinois</font></p>\\n<p align=\"center\"><font face=\"Arial\" size=\"1\">\\n<a href=\"../../mp3clips/barackobama/barackobamafederalplaza.mp3\">\\n<font color=\"#0000FF\">Brief Audio mp3 Clip of Address</font></a></font></p><p align=\"center\">\\n</p><p align=\"center\"></p><p align=\"center\"><audio controls=\"\" style=\"width: 275px; height: 40px;\">\\n\\n<source src=\"../../mp3clips/barackobama/barackobamafederalplaza.mp3\" type=\"audio/mpeg\" />\\n<font size=\"1\" face=\"Arial\">Your browser does not support the audio element.\\n</font></audio><font size=\"1\" face=\"Arial\"> </font>  </p><p align=\"center\">\\n</p><p></p><p></p>\\n<p></p>\\n\\t\\t<p align=\"left\">\\xa0</p>\\n<p align=\"left\"><font face=\"Arial\" size=\"1\" color=\"#FF0000\">[text \\n\\t\\tunauthenticated]</font></p>\\n<p align=\"left\" style=\"line-height: 130%\"><font size=\"2\" face=\"Verdana\">Good afternoon. Let begin by saying that \\n\\t\\talthough this has been billed as an anti-war rally, I stand before you \\n\\t\\tas someone who is not opposed to war in all circumstances.</font></p>\\n\\t\\t<p align=\"left\" style=\"line-height: 130%\"><font size=\"2\" face=\"Verdana\">The Civil War was one of the bloodiest in \\n\\t\\thistory, and yet it was only through the crucible of the sword, the \\n\\t\\tsacrifice of multitudes, that we could begin to perfect this union, and \\n\\t\\tdrive the scourge of slavery from our soil.</font></p>\\n\\t\\t<p align=\"left\" style=\"line-height: 130%\"><font size=\"2\" face=\"Verdana\">I don’t oppose all wars.</font></p>\\n\\t\\t<p align=\"left\" style=\"line-height: 130%\"><font size=\"2\" face=\"Verdana\">My grandfather signed up for a war the day after \\n\\t\\tPearl Harbor was bombed, fought in Patton’s army. He saw the dead and \\n\\t\\tdying across the fields of Europe; he heard the stories of fellow troops \\n\\t\\twho first entered Auschwitz and Treblinka. He fought in the name of a \\n\\t\\tlarger freedom, part of that arsenal of democracy that triumphed over \\n\\t\\tevil, and he did not fight in vain.</font></p>\\n\\t\\t<p align=\"left\" style=\"line-height: 130%\"><font size=\"2\" face=\"Verdana\">I don’t oppose all wars.</font></p>\\n\\t\\t<p align=\"left\" style=\"line-height: 130%\"><font size=\"2\" face=\"Verdana\">After September 11th, after witnessing the \\n\\t\\tcarnage and destruction, the dust and the tears, I supported this \\n\\t\\tAdministration’s pledge to hunt down and root out those who would \\n\\t\\tslaughter innocents in the name of intolerance, and I would willingly \\n\\t\\ttake up arms myself to prevent such tragedy from happening again.</font></p>\\n\\t\\t<p align=\"left\" style=\"line-height: 130%\"><font size=\"2\" face=\"Verdana\">I don’t oppose war in all \\n\\t\\tcircumstances, and when I look out over this crowd today, I know there is no shortage of patriots or patriotism. What I \\n\\t\\tdo oppose is a dumb war. What I am \\n\\t\\topposed to is a rash war. What I am opposed to is the cynical attempt by \\n\\t\\tRichard Perles and Paul Wolfowitz and other arm-chair, weekend warriors \\n\\t\\tin this Administration to shove their own ideological agendas down our \\n\\t\\tthroats, irrespective of the costs in lives lost and in hardships borne.</font></p>\\n\\t\\t<p align=\"left\" style=\"line-height: 130%\"><font size=\"2\" face=\"Verdana\">What I am opposed to is the attempt by political \\n\\t\\thacks like Karl Roves to distract us from a rise in the uninsured, a \\n\\t\\trise in the poverty rate, a drop in the median income -- to distract us \\n\\t\\tfrom corporate scandals and a stock market that has just gone thru the \\n\\t\\tworst month since the Great Depression.</font></p>\\n\\t\\t<p align=\"left\" style=\"line-height: 130%\"><font size=\"2\" face=\"Verdana\">That’s what I’m opposed to. A dumb war. A rash \\n\\t\\twar. A war based not on reason but on passion, not on principle but on \\n\\t\\tpolitics.</font></p>\\n\\t\\t<p align=\"left\" style=\"line-height: 130%\"><font size=\"2\" face=\"Verdana\">Now let me be clear -- I suffer no illusions \\n\\t\\tabout Saddam Hussein. He is a brutal man. A ruthless man. A man who \\n\\t\\tbutchers his own people to secure his own power. He has repeatedly \\n\\t\\tdefied UN resolutions, thwarted UN inspection teams, developed chemical \\n\\t\\tand biological weapons, and coveted nuclear capacity.</font></p>\\n\\t\\t<p align=\"left\" style=\"line-height: 130%\"><font size=\"2\" face=\"Verdana\">He’s a bad guy. The world, and the Iraqi people, \\n\\t\\twould be better off without him.</font></p>\\n\\t\\t<p align=\"left\" style=\"line-height: 130%\"><font size=\"2\" face=\"Verdana\">But I also know that Saddam poses no imminent \\n\\t\\tand direct threat to the United States, or to his neighbors, that the \\n\\t\\tIraqi economy is in shambles, that the Iraqi military a fraction of its \\n\\t\\tformer strength, and that in concert with the international community he \\n\\t\\tcan be contained until, in the way of all petty dictators, he falls away \\n\\t\\tinto the dustbin of history.</font></p>\\n\\t\\t<p align=\"left\" style=\"line-height: 130%\"><font size=\"2\" face=\"Verdana\">I know that even a successful war against Iraq \\n\\t\\twill require a US occupation of undetermined length, at undetermined \\n\\t\\tcost, with undetermined consequences.</font></p>\\n\\t\\t<p align=\"left\" style=\"line-height: 130%\"><font size=\"2\" face=\"Verdana\">I know that an invasion of Iraq without a clear \\n\\t\\trationale and without strong international support will only fan the \\n\\t\\tflames of the middle east, and encourage the worst, rather than best, \\n\\t\\timpulses of the Arab world, and strengthen the recruitment arm of Al \\n\\t\\tQaeda.</font></p>\\n\\t\\t<p align=\"left\" style=\"line-height: 130%\"><font size=\"2\" face=\"Verdana\">I am not opposed to all wars. I’m opposed to \\n\\t\\tdumb wars.</font></p>\\n\\t\\t<p align=\"left\" style=\"line-height: 130%\"><font size=\"2\" face=\"Verdana\">So for those of us who seek a more just and \\n\\t\\tsecure world for our children, let us send a clear message to the \\n\\t\\tpresident today.</font></p>\\n\\t\\t<p align=\"left\" style=\"line-height: 130%\"><font size=\"2\" face=\"Verdana\">You want a fight, President Bush? Let’s finish \\n\\t\\tthe fight with Bin Laden and Al Qaeda, thru effective, coordinated \\n\\t\\tintelligence, and a shutting down of the financial networks that support \\n\\t\\tterrorism, and a homeland security program that involves more than \\n\\t\\tcolor-coded warnings.</font></p>\\n\\t\\t<p align=\"left\" style=\"line-height: 130%\"><font size=\"2\" face=\"Verdana\">You want a fight, President Bush? Let’s fight to \\n\\t\\tmake sure that the UN inspectors can do their work, and that we \\n\\t\\tvigorously enforce a non-proliferation treaty, and that former enemies \\n\\t\\tand current allies like Russia safeguard and ultimately eliminate their \\n\\t\\tstores of nuclear material, and that nations like Pakistan and India \\n\\t\\tnever use the terrible weapons in already in their possession, and that \\n\\t\\tthe arms merchants in our own country stop feeding the countless wars \\n\\t\\tthat rage across the globe.</font></p>\\n\\t\\t<p align=\"left\" style=\"line-height: 130%\"><font size=\"2\" face=\"Verdana\">You want a fight, President Bush? Let’s fight to \\n\\t\\tmake sure our so-called allies in the Middle East, the Saudis and the \\n\\t\\tEgyptians, stop oppressing their own people, and suppressing dissent, \\n\\t\\tand tolerating corruption and inequality, and mismanaging their \\n\\t\\teconomies so that their youth grow up without education, without \\n\\t\\tprospects, without hope, the ready recruits of terrorist cells.</font></p>\\n\\t\\t<p align=\"left\" style=\"line-height: 130%\"><font size=\"2\" face=\"Verdana\">You want a fight, President Bush? Let’s fight to \\n\\t\\twean ourselves off Middle East oil, through an energy policy that \\n\\t\\tdoesn’t simply serve the interests of Exxon and Mobil.</font></p>\\n\\t\\t<p align=\"left\" style=\"line-height: 130%\"><font size=\"2\" face=\"Verdana\">Those are the battles that we need to fight. \\n\\t\\tThose are the battles that we willingly join. The battles against \\n\\t\\tignorance and intolerance. Corruption and greed. Poverty and despair.</font></p>\\n\\t\\t<p align=\"left\" style=\"line-height: 130%\"><font size=\"2\" face=\"Verdana\">The consequences of war are dire, the sacrifices \\n\\t\\timmeasurable. We may have occasion in our lifetime to once again rise up \\n\\t\\tin defense of our freedom, and pay the wages of war. But we ought not -- \\n\\t\\twe will not -- travel down that hellish path blindly. Nor should we allow \\n\\t\\tthose who would march off and pay the ultimate sacrifice, who would \\n\\t\\tprove the full measure of devotion with their blood, to make such an \\n\\t\\tawful sacrifice in vain.</font></p>\\n\\t\\t<hr />\\n<font size=\"1\" face=\"Arial\" color=\"#000000\" p=\"\"></font><p align=\"left\"><font size=\"1\" face=\"Arial\" color=\"#000000\" p=\"\">\\n\\t\\t<font face=\"Arial\" size=\"1\"><u>Text Source</u>: \\n\\t\\t</font></font>\\n<font size=\"1\" face=\"Arial\">Wikipedia.org</font></p><p align=\"left\"><b>\\n<font face=\"Arial\" size=\"1\" color=\"#008000\"><u>Page Updated</u>: 7/30/18</font></b></p>\\n<p align=\"left\"><font face=\"Arial\" size=\"1\"><u>U.S. Copyright Status</u>:<b>\\n\\n<font color=\"#FF3300\">\\n<a href=\"http://creativecommons.org/licenses/by-sa/3.0/\" style=\"text-decoration: none\">\\n<font color=\"#008000\">Text =\\n</font></a><font color=\"#008000\"><a href=\"https://creativecommons.org/licenses/by-sa/3.0/\"><font color=\"#008000\">\\nCC </font></a></font><font color=\"#008000\">\\n<a href=\"https://creativecommons.org/licenses/by-sa/3.0/\"><font color=\"#008000\">\\nBY-SA 3.0</font></a>. </font>Audio = Uncertain.</font></b></font></p></td>\\n<td width=\"161\" style=\"padding-left: 5px; padding-right: 5px; padding-top: 7px; padding-bottom: 11px\" align=\"center\" bgcolor=\"#940F04\" valign=\"top\" bordercolor=\"#940F04\">\\n<p>\\xa0</p>\\n<p>\\xa0</p>\\n<p>\\xa0</p>\\n<p>\\xa0</p>\\n<p>\\xa0</p>\\n<p>\\xa0</p>\\n<p>\\xa0</p>\\n<p>\\xa0</p>\\n<p>\\xa0</p>\\n<p>\\xa0</p>\\n<p>\\xa0</p>\\n<p>\\xa0</p>\\n<p>\\xa0</p>\\n<p>\\xa0</p>\\n<p>\\xa0</p>\\n<p>\\xa0</p>\\n<p>\\xa0</p>\\n<script async=\"\" src=\"//pagead2.googlesyndication.com/pagead/js/adsbygoogle.js\"></script>\\n<!-- VerticleSkyScraperNEW -->\\n<ins class=\"adsbygoogle\" style=\"display:inline-block;width:160px;height:600px\" data-ad-client=\"ca-pub-4540749582151874\" data-ad-slot=\"4043161684\" data-adsbygoogle-status=\"done\"><ins id=\"aswift_2_expand\" style=\"display:inline-table;border:none;height:600px;margin:0;padding:0;position:relative;visibility:visible;width:160px;background-color:transparent;\"><ins id=\"aswift_2_anchor\" style=\"display:block;border:none;height:600px;margin:0;padding:0;position:relative;visibility:visible;width:160px;background-color:transparent;\"><iframe width=\"160\" height=\"600\" frameborder=\"0\" marginwidth=\"0\" marginheight=\"0\" vspace=\"0\" hspace=\"0\" allowtransparency=\"true\" scrolling=\"no\" allowfullscreen=\"true\" onload=\"var i=this.id,s=window.google_iframe_oncopy,H=s&amp;&amp;s.handlers,h=H&amp;&amp;H[i],w=this.contentWindow,d;try{d=w.document}catch(e){}if(h&amp;&amp;d&amp;&amp;(!d.body||!d.body.firstChild)){if(h.call){setTimeout(h,0)}else if(h.match){try{h=s.upd(h,i)}catch(e){}w.location.replace(h)}}\" id=\"aswift_2\" name=\"aswift_2\" style=\"left:0;position:absolute;top:0;border:0px;width:160px;height:600px;\"></iframe></ins></ins></ins>\\n<script>\\n(adsbygoogle = window.adsbygoogle || []).push({});\\n</script><p align=\"center\">\\n</p></td></tr></tbody></table>\\n<p></p><div align=\"center\"><script type=\"text/javascript\">\\n    google_ad_client = \"ca-pub-4540749582151874\";\\n    google_ad_slot = \"7079952559\";\\n    google_ad_width = 336;\\n    google_ad_height = 280;\\n</script>\\n<!-- New Large Rectangle -->\\n<script type=\"text/javascript\" src=\"//pagead2.googlesyndication.com/pagead/show_ads.js\">\\n</script><ins id=\"aswift_1_expand\" style=\"display: inline-table; border: none; height: 0px; margin: 0px; padding: 0px; position: relative; visibility: visible; width: 336px; background-color: transparent;\" data-ad-slot=\"7079952559\"><ins id=\"aswift_1_anchor\" style=\"display: block; border: none; height: 0px; margin: 0px; padding: 0px; position: relative; visibility: visible; width: 336px; background-color: transparent; overflow: hidden; opacity: 0;\"><iframe width=\"336\" height=\"280\" frameborder=\"0\" marginwidth=\"0\" marginheight=\"0\" vspace=\"0\" hspace=\"0\" allowtransparency=\"true\" scrolling=\"no\" allowfullscreen=\"true\" onload=\"var i=this.id,s=window.google_iframe_oncopy,H=s&amp;&amp;s.handlers,h=H&amp;&amp;H[i],w=this.contentWindow,d;try{d=w.document}catch(e){}if(h&amp;&amp;d&amp;&amp;(!d.body||!d.body.firstChild)){if(h.call){setTimeout(h,0)}else if(h.match){try{h=s.upd(h,i)}catch(e){}w.location.replace(h)}}\" id=\"aswift_1\" name=\"aswift_1\" style=\"left:0;position:absolute;top:0;border:0px;width:336px;height:280px;\"></iframe></ins></ins><p></p>\\n<center><table border=\"0\" cellpadding=\"0\" cellspacing=\"0\" style=\"border-collapse: collapse\" bordercolor=\"#111111\" width=\"265\" height=\"67\" id=\"AutoNumber2\" bgcolor=\"#800000\">\\n<tbody><tr><td width=\"265\" height=\"67\" style=\"padding-top: 10; padding-bottom: 10\">\\n<p align=\"center\"><font face=\"Arial\" size=\"4\"><a style=\"text-decoration: none; color: #FFFFFF\" href=\"../../newtop100speeches.htm\">Top 100 American Speeches</a></font></p>\\n<p align=\"center\"><font face=\"Arial\" size=\"4\">\\n<a style=\"text-decoration: none; color: #FFFFFF\" href=\"/speechbank.htm\">Online Speech Bank</a></font></p>\\n<p align=\"center\"><font face=\"Arial\" size=\"4\">\\n<a style=\"text-decoration: none; color: #FFFFFF\" href=\"../../moviespeeches.htm\">\\nMovie Speeches</a></font></p> <p align=\"center\"><font face=\"Arial\" size=\"1\" color=\"#FFFFFF\">© Copyright 2001-Present.\\xa0 <br />\\nAmerican Rhetoric.</font></p>\\n</td></tr>\\n</tbody></table>\\n</center>\\n</div>\\n\\n</div><iframe id=\"google_osd_static_frame_6169480284473\" name=\"google_osd_static_frame\" style=\"display: none; width: 0px; height: 0px;\"></iframe></body><iframe id=\"google_shimpl\" style=\"display: none;\"></iframe><iframe id=\"google_esf\" name=\"google_esf\" src=\"https://googleads.g.doubleclick.net/pagead/html/r20190212/r20190131/zrt_lookup.html#\" data-ad-client=\"ca-pub-4540749582151874\" style=\"display: none;\"></iframe></html>'"
      ]
     },
     "execution_count": 16,
     "metadata": {},
     "output_type": "execute_result"
    }
   ],
   "source": [
    "str(first_speech_html).replace('\\r\\n','')"
   ]
  },
  {
   "cell_type": "code",
   "execution_count": null,
   "metadata": {
    "collapsed": true
   },
   "outputs": [],
   "source": []
  },
  {
   "cell_type": "code",
   "execution_count": null,
   "metadata": {
    "collapsed": true
   },
   "outputs": [],
   "source": []
  },
  {
   "cell_type": "code",
   "execution_count": null,
   "metadata": {
    "collapsed": true
   },
   "outputs": [],
   "source": []
  },
  {
   "cell_type": "code",
   "execution_count": null,
   "metadata": {
    "collapsed": true
   },
   "outputs": [],
   "source": []
  },
  {
   "cell_type": "code",
   "execution_count": 35,
   "metadata": {
    "collapsed": true
   },
   "outputs": [],
   "source": [
    "soup = BeautifulSoup(first_speech_html)#.first_speech_html"
   ]
  },
  {
   "cell_type": "code",
   "execution_count": 41,
   "metadata": {},
   "outputs": [
    {
     "data": {
      "text/plain": [
       "<html xmlns=\"http://www.w3.org/1999/xhtml\"><head>\n",
       "<meta content=\"Global\" name=\"Distribution\"/>\n",
       "<meta content=\"Transcript of Barack Obama 2002 Speech Opposing the War in Iraq\" name=\"description\"/>\n",
       "<meta content=\"obama 2002 iraq war speech, obama anti iraq war speech\" name=\"keywords\"/>\n",
       "<meta content=\"text/html; charset=utf-8\" http-equiv=\"Content-Type\"/>\n",
       "<meta content=\"Barack Obama - Speech Opposing the War in Iraq at Federal Plaza, Chicago\" name=\"Title\"/>\n",
       "<title>American Rhetoric: Barack Obama - Speech on the Iraq War at Federal \n",
       "Plaza, Chicago </title>\n",
       "<link as=\"script\" href=\"https://adservice.google.com/adsid/integrator.js?domain=www.americanrhetoric.com\" rel=\"preload\"/><script src=\"https://www.googletagservices.com/activeview/js/current/osd.js?cb=%2Fr20100101\"></script><script src=\"https://pagead2.googlesyndication.com/pub-config/r20160913/ca-pub-4540749582151874.js\"></script><script src=\"https://pagead2.googlesyndication.com/pub-config/r20160913/ca-pub-4540749582151874.js\"></script><script src=\"https://adservice.google.com/adsid/integrator.js?domain=www.americanrhetoric.com\" type=\"text/javascript\"></script><link as=\"script\" href=\"https://pagead2.googlesyndication.com/pagead/js/r20190204/r20190131/show_ads_impl.js\" rel=\"preload\"/></head>\n",
       "<body bgcolor=\"#00002D\" leftmargin=\"0\" link=\"#FFFFFF\" topmargin=\"0\" vlink=\"#FFFF00\">\n",
       "<div align=\"center\">\n",
       "<a href=\"https://www.americanrhetoric.com/\">\n",
       "<img border=\"0\" height=\"122\" src=\"../../images/ARLogoSpeechBanksubs.jpg\" width=\"745\"/></a><p>\n",
       "</p><div align=\"center\"><script type=\"text/javascript\">\n",
       "    google_ad_client = \"ca-pub-4540749582151874\";\n",
       "    google_ad_slot = \"9378812830\";\n",
       "    google_ad_width = 728;\n",
       "    google_ad_height = 90;\n",
       "</script>\n",
       "<!-- New Leaderboard -->\n",
       "<script src=\"//pagead2.googlesyndication.com/pagead/show_ads.js\" type=\"text/javascript\">\n",
       "</script><ins data-ad-slot=\"9378812830\" id=\"aswift_0_expand\" style=\"display:inline-table;border:none;height:90px;margin:0;padding:0;position:relative;visibility:visible;width:728px;background-color:transparent;\"><ins id=\"aswift_0_anchor\" style=\"display:block;border:none;height:90px;margin:0;padding:0;position:relative;visibility:visible;width:728px;background-color:transparent;\"><iframe allowfullscreen=\"true\" allowtransparency=\"true\" frameborder=\"0\" height=\"90\" hspace=\"0\" id=\"aswift_0\" marginheight=\"0\" marginwidth=\"0\" name=\"aswift_0\" onload=\"var i=this.id,s=window.google_iframe_oncopy,H=s&amp;&amp;s.handlers,h=H&amp;&amp;H[i],w=this.contentWindow,d;try{d=w.document}catch(e){}if(h&amp;&amp;d&amp;&amp;(!d.body||!d.body.firstChild)){if(h.call){setTimeout(h,0)}else if(h.match){try{h=s.upd(h,i)}catch(e){}w.location.replace(h)}}\" scrolling=\"no\" style=\"left:0;position:absolute;top:0;border:0px;width:728px;height:90px;\" vspace=\"0\" width=\"728\"></iframe></ins></ins></div><p></p>\n",
       "<table bgcolor=\"#FFFFFF\" border=\"0\" bordercolor=\"#111111\" cellpadding=\"0\" id=\"AutoNumber1\" style=\"border-collapse: collapse; padding-left: 30px; padding-right: 30px; padding-top: 10px; padding-bottom: 10px\" width=\"745\">\n",
       "<tbody><tr><td align=\"center\" style=\"padding-left: 40px; padding-right: 40px; padding-top: 7px; padding-bottom: 11px\" width=\"77%\">\n",
       "<p align=\"center\">\n",
       "</p>\n",
       "<p align=\"center\"></p>\n",
       "<p align=\"center\">\n",
       "</p>\n",
       "<p align=\"center\"></p><p align=\"center\">\n",
       " </p>\n",
       "<p align=\"center\"><b><font color=\"#00004A\" size=\"6\">B</font><font size=\"5\"><font color=\"#CE0A04\">arack</font> </font>\n",
       "<font color=\"#00004A\" size=\"6\">O</font><font color=\"#CE0A04\" size=\"5\">bama</font></b></p>\n",
       "<p align=\"center\"><font color=\"#00004A\"><b><i>Speech Opposing the War in Iraq at Federal Plaza</i></b></font></p>\n",
       "<p align=\"center\"></p>\n",
       "<p align=\"center\"><font color=\"#CE0A04\" face=\"Arial\" size=\"1\">delivered 2 October 2002, Chicago, \n",
       "Illinois</font></p>\n",
       "<p align=\"center\"><font face=\"Arial\" size=\"1\">\n",
       "<a href=\"../../mp3clips/barackobama/barackobamafederalplaza.mp3\">\n",
       "<font color=\"#0000FF\">Brief Audio mp3 Clip of Address</font></a></font></p><p align=\"center\">\n",
       "</p><p align=\"center\"></p><p align=\"center\"><audio controls=\"\" style=\"width: 275px; height: 40px;\">\n",
       "<source src=\"../../mp3clips/barackobama/barackobamafederalplaza.mp3\" type=\"audio/mpeg\"/>\n",
       "<font face=\"Arial\" size=\"1\">Your browser does not support the audio element.\n",
       "</font></audio><font face=\"Arial\" size=\"1\"> </font> </p><p align=\"center\">\n",
       "</p><p></p><p></p>\n",
       "<p></p>\n",
       "<p align=\"left\"> </p>\n",
       "<p align=\"left\"><font color=\"#FF0000\" face=\"Arial\" size=\"1\">[text \n",
       "\t\tunauthenticated]</font></p>\n",
       "<p align=\"left\" style=\"line-height: 130%\"><font face=\"Verdana\" size=\"2\">Good afternoon. Let begin by saying that \n",
       "\t\talthough this has been billed as an anti-war rally, I stand before you \n",
       "\t\tas someone who is not opposed to war in all circumstances.</font></p>\n",
       "<p align=\"left\" style=\"line-height: 130%\"><font face=\"Verdana\" size=\"2\">The Civil War was one of the bloodiest in \n",
       "\t\thistory, and yet it was only through the crucible of the sword, the \n",
       "\t\tsacrifice of multitudes, that we could begin to perfect this union, and \n",
       "\t\tdrive the scourge of slavery from our soil.</font></p>\n",
       "<p align=\"left\" style=\"line-height: 130%\"><font face=\"Verdana\" size=\"2\">I don’t oppose all wars.</font></p>\n",
       "<p align=\"left\" style=\"line-height: 130%\"><font face=\"Verdana\" size=\"2\">My grandfather signed up for a war the day after \n",
       "\t\tPearl Harbor was bombed, fought in Patton’s army. He saw the dead and \n",
       "\t\tdying across the fields of Europe; he heard the stories of fellow troops \n",
       "\t\twho first entered Auschwitz and Treblinka. He fought in the name of a \n",
       "\t\tlarger freedom, part of that arsenal of democracy that triumphed over \n",
       "\t\tevil, and he did not fight in vain.</font></p>\n",
       "<p align=\"left\" style=\"line-height: 130%\"><font face=\"Verdana\" size=\"2\">I don’t oppose all wars.</font></p>\n",
       "<p align=\"left\" style=\"line-height: 130%\"><font face=\"Verdana\" size=\"2\">After September 11th, after witnessing the \n",
       "\t\tcarnage and destruction, the dust and the tears, I supported this \n",
       "\t\tAdministration’s pledge to hunt down and root out those who would \n",
       "\t\tslaughter innocents in the name of intolerance, and I would willingly \n",
       "\t\ttake up arms myself to prevent such tragedy from happening again.</font></p>\n",
       "<p align=\"left\" style=\"line-height: 130%\"><font face=\"Verdana\" size=\"2\">I don’t oppose war in all \n",
       "\t\tcircumstances, and when I look out over this crowd today, I know there is no shortage of patriots or patriotism. What I \n",
       "\t\tdo oppose is a dumb war. What I am \n",
       "\t\topposed to is a rash war. What I am opposed to is the cynical attempt by \n",
       "\t\tRichard Perles and Paul Wolfowitz and other arm-chair, weekend warriors \n",
       "\t\tin this Administration to shove their own ideological agendas down our \n",
       "\t\tthroats, irrespective of the costs in lives lost and in hardships borne.</font></p>\n",
       "<p align=\"left\" style=\"line-height: 130%\"><font face=\"Verdana\" size=\"2\">What I am opposed to is the attempt by political \n",
       "\t\thacks like Karl Roves to distract us from a rise in the uninsured, a \n",
       "\t\trise in the poverty rate, a drop in the median income -- to distract us \n",
       "\t\tfrom corporate scandals and a stock market that has just gone thru the \n",
       "\t\tworst month since the Great Depression.</font></p>\n",
       "<p align=\"left\" style=\"line-height: 130%\"><font face=\"Verdana\" size=\"2\">That’s what I’m opposed to. A dumb war. A rash \n",
       "\t\twar. A war based not on reason but on passion, not on principle but on \n",
       "\t\tpolitics.</font></p>\n",
       "<p align=\"left\" style=\"line-height: 130%\"><font face=\"Verdana\" size=\"2\">Now let me be clear -- I suffer no illusions \n",
       "\t\tabout Saddam Hussein. He is a brutal man. A ruthless man. A man who \n",
       "\t\tbutchers his own people to secure his own power. He has repeatedly \n",
       "\t\tdefied UN resolutions, thwarted UN inspection teams, developed chemical \n",
       "\t\tand biological weapons, and coveted nuclear capacity.</font></p>\n",
       "<p align=\"left\" style=\"line-height: 130%\"><font face=\"Verdana\" size=\"2\">He’s a bad guy. The world, and the Iraqi people, \n",
       "\t\twould be better off without him.</font></p>\n",
       "<p align=\"left\" style=\"line-height: 130%\"><font face=\"Verdana\" size=\"2\">But I also know that Saddam poses no imminent \n",
       "\t\tand direct threat to the United States, or to his neighbors, that the \n",
       "\t\tIraqi economy is in shambles, that the Iraqi military a fraction of its \n",
       "\t\tformer strength, and that in concert with the international community he \n",
       "\t\tcan be contained until, in the way of all petty dictators, he falls away \n",
       "\t\tinto the dustbin of history.</font></p>\n",
       "<p align=\"left\" style=\"line-height: 130%\"><font face=\"Verdana\" size=\"2\">I know that even a successful war against Iraq \n",
       "\t\twill require a US occupation of undetermined length, at undetermined \n",
       "\t\tcost, with undetermined consequences.</font></p>\n",
       "<p align=\"left\" style=\"line-height: 130%\"><font face=\"Verdana\" size=\"2\">I know that an invasion of Iraq without a clear \n",
       "\t\trationale and without strong international support will only fan the \n",
       "\t\tflames of the middle east, and encourage the worst, rather than best, \n",
       "\t\timpulses of the Arab world, and strengthen the recruitment arm of Al \n",
       "\t\tQaeda.</font></p>\n",
       "<p align=\"left\" style=\"line-height: 130%\"><font face=\"Verdana\" size=\"2\">I am not opposed to all wars. I’m opposed to \n",
       "\t\tdumb wars.</font></p>\n",
       "<p align=\"left\" style=\"line-height: 130%\"><font face=\"Verdana\" size=\"2\">So for those of us who seek a more just and \n",
       "\t\tsecure world for our children, let us send a clear message to the \n",
       "\t\tpresident today.</font></p>\n",
       "<p align=\"left\" style=\"line-height: 130%\"><font face=\"Verdana\" size=\"2\">You want a fight, President Bush? Let’s finish \n",
       "\t\tthe fight with Bin Laden and Al Qaeda, thru effective, coordinated \n",
       "\t\tintelligence, and a shutting down of the financial networks that support \n",
       "\t\tterrorism, and a homeland security program that involves more than \n",
       "\t\tcolor-coded warnings.</font></p>\n",
       "<p align=\"left\" style=\"line-height: 130%\"><font face=\"Verdana\" size=\"2\">You want a fight, President Bush? Let’s fight to \n",
       "\t\tmake sure that the UN inspectors can do their work, and that we \n",
       "\t\tvigorously enforce a non-proliferation treaty, and that former enemies \n",
       "\t\tand current allies like Russia safeguard and ultimately eliminate their \n",
       "\t\tstores of nuclear material, and that nations like Pakistan and India \n",
       "\t\tnever use the terrible weapons in already in their possession, and that \n",
       "\t\tthe arms merchants in our own country stop feeding the countless wars \n",
       "\t\tthat rage across the globe.</font></p>\n",
       "<p align=\"left\" style=\"line-height: 130%\"><font face=\"Verdana\" size=\"2\">You want a fight, President Bush? Let’s fight to \n",
       "\t\tmake sure our so-called allies in the Middle East, the Saudis and the \n",
       "\t\tEgyptians, stop oppressing their own people, and suppressing dissent, \n",
       "\t\tand tolerating corruption and inequality, and mismanaging their \n",
       "\t\teconomies so that their youth grow up without education, without \n",
       "\t\tprospects, without hope, the ready recruits of terrorist cells.</font></p>\n",
       "<p align=\"left\" style=\"line-height: 130%\"><font face=\"Verdana\" size=\"2\">You want a fight, President Bush? Let’s fight to \n",
       "\t\twean ourselves off Middle East oil, through an energy policy that \n",
       "\t\tdoesn’t simply serve the interests of Exxon and Mobil.</font></p>\n",
       "<p align=\"left\" style=\"line-height: 130%\"><font face=\"Verdana\" size=\"2\">Those are the battles that we need to fight. \n",
       "\t\tThose are the battles that we willingly join. The battles against \n",
       "\t\tignorance and intolerance. Corruption and greed. Poverty and despair.</font></p>\n",
       "<p align=\"left\" style=\"line-height: 130%\"><font face=\"Verdana\" size=\"2\">The consequences of war are dire, the sacrifices \n",
       "\t\timmeasurable. We may have occasion in our lifetime to once again rise up \n",
       "\t\tin defense of our freedom, and pay the wages of war. But we ought not -- \n",
       "\t\twe will not -- travel down that hellish path blindly. Nor should we allow \n",
       "\t\tthose who would march off and pay the ultimate sacrifice, who would \n",
       "\t\tprove the full measure of devotion with their blood, to make such an \n",
       "\t\tawful sacrifice in vain.</font></p>\n",
       "<hr/>\n",
       "<font color=\"#000000\" face=\"Arial\" p=\"\" size=\"1\"></font><p align=\"left\"><font color=\"#000000\" face=\"Arial\" p=\"\" size=\"1\">\n",
       "<font face=\"Arial\" size=\"1\"><u>Text Source</u>: \n",
       "\t\t</font></font>\n",
       "<font face=\"Arial\" size=\"1\">Wikipedia.org</font></p><p align=\"left\"><b>\n",
       "<font color=\"#008000\" face=\"Arial\" size=\"1\"><u>Page Updated</u>: 7/30/18</font></b></p>\n",
       "<p align=\"left\"><font face=\"Arial\" size=\"1\"><u>U.S. Copyright Status</u>:<b>\n",
       "<font color=\"#FF3300\">\n",
       "<a href=\"http://creativecommons.org/licenses/by-sa/3.0/\" style=\"text-decoration: none\">\n",
       "<font color=\"#008000\">Text =\n",
       "</font></a><font color=\"#008000\"><a href=\"https://creativecommons.org/licenses/by-sa/3.0/\"><font color=\"#008000\">\n",
       "CC </font></a></font><font color=\"#008000\">\n",
       "<a href=\"https://creativecommons.org/licenses/by-sa/3.0/\"><font color=\"#008000\">\n",
       "BY-SA 3.0</font></a>. </font>Audio = Uncertain.</font></b></font></p></td>\n",
       "<td align=\"center\" bgcolor=\"#940F04\" bordercolor=\"#940F04\" style=\"padding-left: 5px; padding-right: 5px; padding-top: 7px; padding-bottom: 11px\" valign=\"top\" width=\"161\">\n",
       "<p> </p>\n",
       "<p> </p>\n",
       "<p> </p>\n",
       "<p> </p>\n",
       "<p> </p>\n",
       "<p> </p>\n",
       "<p> </p>\n",
       "<p> </p>\n",
       "<p> </p>\n",
       "<p> </p>\n",
       "<p> </p>\n",
       "<p> </p>\n",
       "<p> </p>\n",
       "<p> </p>\n",
       "<p> </p>\n",
       "<p> </p>\n",
       "<p> </p>\n",
       "<script async=\"\" src=\"//pagead2.googlesyndication.com/pagead/js/adsbygoogle.js\"></script>\n",
       "<!-- VerticleSkyScraperNEW -->\n",
       "<ins class=\"adsbygoogle\" data-ad-client=\"ca-pub-4540749582151874\" data-ad-slot=\"4043161684\" data-adsbygoogle-status=\"done\" style=\"display:inline-block;width:160px;height:600px\"><ins id=\"aswift_2_expand\" style=\"display:inline-table;border:none;height:600px;margin:0;padding:0;position:relative;visibility:visible;width:160px;background-color:transparent;\"><ins id=\"aswift_2_anchor\" style=\"display:block;border:none;height:600px;margin:0;padding:0;position:relative;visibility:visible;width:160px;background-color:transparent;\"><iframe allowfullscreen=\"true\" allowtransparency=\"true\" frameborder=\"0\" height=\"600\" hspace=\"0\" id=\"aswift_2\" marginheight=\"0\" marginwidth=\"0\" name=\"aswift_2\" onload=\"var i=this.id,s=window.google_iframe_oncopy,H=s&amp;&amp;s.handlers,h=H&amp;&amp;H[i],w=this.contentWindow,d;try{d=w.document}catch(e){}if(h&amp;&amp;d&amp;&amp;(!d.body||!d.body.firstChild)){if(h.call){setTimeout(h,0)}else if(h.match){try{h=s.upd(h,i)}catch(e){}w.location.replace(h)}}\" scrolling=\"no\" style=\"left:0;position:absolute;top:0;border:0px;width:160px;height:600px;\" vspace=\"0\" width=\"160\"></iframe></ins></ins></ins>\n",
       "<script>\n",
       "(adsbygoogle = window.adsbygoogle || []).push({});\n",
       "</script><p align=\"center\">\n",
       "</p></td></tr></tbody></table>\n",
       "<p></p><div align=\"center\"><script type=\"text/javascript\">\n",
       "    google_ad_client = \"ca-pub-4540749582151874\";\n",
       "    google_ad_slot = \"7079952559\";\n",
       "    google_ad_width = 336;\n",
       "    google_ad_height = 280;\n",
       "</script>\n",
       "<!-- New Large Rectangle -->\n",
       "<script src=\"//pagead2.googlesyndication.com/pagead/show_ads.js\" type=\"text/javascript\">\n",
       "</script><ins data-ad-slot=\"7079952559\" id=\"aswift_1_expand\" style=\"display: inline-table; border: none; height: 0px; margin: 0px; padding: 0px; position: relative; visibility: visible; width: 336px; background-color: transparent;\"><ins id=\"aswift_1_anchor\" style=\"display: block; border: none; height: 0px; margin: 0px; padding: 0px; position: relative; visibility: visible; width: 336px; background-color: transparent; overflow: hidden; opacity: 0;\"><iframe allowfullscreen=\"true\" allowtransparency=\"true\" frameborder=\"0\" height=\"280\" hspace=\"0\" id=\"aswift_1\" marginheight=\"0\" marginwidth=\"0\" name=\"aswift_1\" onload=\"var i=this.id,s=window.google_iframe_oncopy,H=s&amp;&amp;s.handlers,h=H&amp;&amp;H[i],w=this.contentWindow,d;try{d=w.document}catch(e){}if(h&amp;&amp;d&amp;&amp;(!d.body||!d.body.firstChild)){if(h.call){setTimeout(h,0)}else if(h.match){try{h=s.upd(h,i)}catch(e){}w.location.replace(h)}}\" scrolling=\"no\" style=\"left:0;position:absolute;top:0;border:0px;width:336px;height:280px;\" vspace=\"0\" width=\"336\"></iframe></ins></ins><p></p>\n",
       "<center><table bgcolor=\"#800000\" border=\"0\" bordercolor=\"#111111\" cellpadding=\"0\" cellspacing=\"0\" height=\"67\" id=\"AutoNumber2\" style=\"border-collapse: collapse\" width=\"265\">\n",
       "<tbody><tr><td height=\"67\" style=\"padding-top: 10; padding-bottom: 10\" width=\"265\">\n",
       "<p align=\"center\"><font face=\"Arial\" size=\"4\"><a href=\"../../newtop100speeches.htm\" style=\"text-decoration: none; color: #FFFFFF\">Top 100 American Speeches</a></font></p>\n",
       "<p align=\"center\"><font face=\"Arial\" size=\"4\">\n",
       "<a href=\"/speechbank.htm\" style=\"text-decoration: none; color: #FFFFFF\">Online Speech Bank</a></font></p>\n",
       "<p align=\"center\"><font face=\"Arial\" size=\"4\">\n",
       "<a href=\"../../moviespeeches.htm\" style=\"text-decoration: none; color: #FFFFFF\">\n",
       "Movie Speeches</a></font></p> <p align=\"center\"><font color=\"#FFFFFF\" face=\"Arial\" size=\"1\">© Copyright 2001-Present.  <br/>\n",
       "American Rhetoric.</font></p>\n",
       "</td></tr>\n",
       "</tbody></table>\n",
       "</center>\n",
       "</div>\n",
       "</div><iframe id=\"google_osd_static_frame_1731146776121\" name=\"google_osd_static_frame\" style=\"display: none; width: 0px; height: 0px;\"></iframe></body><iframe id=\"google_shimpl\" style=\"display: none;\"></iframe><iframe data-ad-client=\"ca-pub-4540749582151874\" id=\"google_esf\" name=\"google_esf\" src=\"https://googleads.g.doubleclick.net/pagead/html/r20190204/r20190131/zrt_lookup.html#\" style=\"display: none;\"></iframe></html>"
      ]
     },
     "execution_count": 41,
     "metadata": {},
     "output_type": "execute_result"
    }
   ],
   "source": [
    "soup.find()"
   ]
  },
  {
   "cell_type": "code",
   "execution_count": null,
   "metadata": {
    "collapsed": true
   },
   "outputs": [],
   "source": []
  },
  {
   "cell_type": "code",
   "execution_count": 17,
   "metadata": {},
   "outputs": [
    {
     "data": {
      "text/plain": [
       "'http://www.americanrhetoric.com/speeches/barackobama/barackobamairaqwarspeechfederalplaza.htm'"
      ]
     },
     "execution_count": 17,
     "metadata": {},
     "output_type": "execute_result"
    }
   ],
   "source": [
    "full_urls[0]"
   ]
  },
  {
   "cell_type": "code",
   "execution_count": 55,
   "metadata": {
    "collapsed": true
   },
   "outputs": [],
   "source": [
    "def get_speech_content(url):\n",
    "    re = requests.get(url)\n",
    "    page_data = BeautifulSoup(re.content, features='lxml')\n",
    "    speech_data = page_data.find_all(\"font\", {\"face\": \"Verdana\"})\n",
    "    return speech_data"
   ]
  },
  {
   "cell_type": "code",
   "execution_count": 56,
   "metadata": {},
   "outputs": [
    {
     "data": {
      "text/plain": [
       "[<font face=\"Verdana\" size=\"2\">Good afternoon. Let begin by saying that \n",
       " \t\talthough this has been billed as an anti-war rally, I stand before you \n",
       " \t\tas someone who is not opposed to war in all circumstances.</font>,\n",
       " <font face=\"Verdana\" size=\"2\">The Civil War was one of the bloodiest in \n",
       " \t\thistory, and yet it was only through the crucible of the sword, the \n",
       " \t\tsacrifice of multitudes, that we could begin to perfect this union, and \n",
       " \t\tdrive the scourge of slavery from our soil.</font>,\n",
       " <font face=\"Verdana\" size=\"2\">I don’t oppose all wars.</font>,\n",
       " <font face=\"Verdana\" size=\"2\">My grandfather signed up for a war the day after \n",
       " \t\tPearl Harbor was bombed, fought in Patton’s army. He saw the dead and \n",
       " \t\tdying across the fields of Europe; he heard the stories of fellow troops \n",
       " \t\twho first entered Auschwitz and Treblinka. He fought in the name of a \n",
       " \t\tlarger freedom, part of that arsenal of democracy that triumphed over \n",
       " \t\tevil, and he did not fight in vain.</font>,\n",
       " <font face=\"Verdana\" size=\"2\">I don’t oppose all wars.</font>,\n",
       " <font face=\"Verdana\" size=\"2\">After September 11th, after witnessing the \n",
       " \t\tcarnage and destruction, the dust and the tears, I supported this \n",
       " \t\tAdministration’s pledge to hunt down and root out those who would \n",
       " \t\tslaughter innocents in the name of intolerance, and I would willingly \n",
       " \t\ttake up arms myself to prevent such tragedy from happening again.</font>,\n",
       " <font face=\"Verdana\" size=\"2\">I don’t oppose war in all \n",
       " \t\tcircumstances, and when I look out over this crowd today, I know there is no shortage of patriots or patriotism. What I \n",
       " \t\tdo oppose is a dumb war. What I am \n",
       " \t\topposed to is a rash war. What I am opposed to is the cynical attempt by \n",
       " \t\tRichard Perles and Paul Wolfowitz and other arm-chair, weekend warriors \n",
       " \t\tin this Administration to shove their own ideological agendas down our \n",
       " \t\tthroats, irrespective of the costs in lives lost and in hardships borne.</font>,\n",
       " <font face=\"Verdana\" size=\"2\">What I am opposed to is the attempt by political \n",
       " \t\thacks like Karl Roves to distract us from a rise in the uninsured, a \n",
       " \t\trise in the poverty rate, a drop in the median income -- to distract us \n",
       " \t\tfrom corporate scandals and a stock market that has just gone thru the \n",
       " \t\tworst month since the Great Depression.</font>,\n",
       " <font face=\"Verdana\" size=\"2\">That’s what I’m opposed to. A dumb war. A rash \n",
       " \t\twar. A war based not on reason but on passion, not on principle but on \n",
       " \t\tpolitics.</font>,\n",
       " <font face=\"Verdana\" size=\"2\">Now let me be clear -- I suffer no illusions \n",
       " \t\tabout Saddam Hussein. He is a brutal man. A ruthless man. A man who \n",
       " \t\tbutchers his own people to secure his own power. He has repeatedly \n",
       " \t\tdefied UN resolutions, thwarted UN inspection teams, developed chemical \n",
       " \t\tand biological weapons, and coveted nuclear capacity.</font>,\n",
       " <font face=\"Verdana\" size=\"2\">He’s a bad guy. The world, and the Iraqi people, \n",
       " \t\twould be better off without him.</font>,\n",
       " <font face=\"Verdana\" size=\"2\">But I also know that Saddam poses no imminent \n",
       " \t\tand direct threat to the United States, or to his neighbors, that the \n",
       " \t\tIraqi economy is in shambles, that the Iraqi military a fraction of its \n",
       " \t\tformer strength, and that in concert with the international community he \n",
       " \t\tcan be contained until, in the way of all petty dictators, he falls away \n",
       " \t\tinto the dustbin of history.</font>,\n",
       " <font face=\"Verdana\" size=\"2\">I know that even a successful war against Iraq \n",
       " \t\twill require a US occupation of undetermined length, at undetermined \n",
       " \t\tcost, with undetermined consequences.</font>,\n",
       " <font face=\"Verdana\" size=\"2\">I know that an invasion of Iraq without a clear \n",
       " \t\trationale and without strong international support will only fan the \n",
       " \t\tflames of the middle east, and encourage the worst, rather than best, \n",
       " \t\timpulses of the Arab world, and strengthen the recruitment arm of Al \n",
       " \t\tQaeda.</font>,\n",
       " <font face=\"Verdana\" size=\"2\">I am not opposed to all wars. I’m opposed to \n",
       " \t\tdumb wars.</font>,\n",
       " <font face=\"Verdana\" size=\"2\">So for those of us who seek a more just and \n",
       " \t\tsecure world for our children, let us send a clear message to the \n",
       " \t\tpresident today.</font>,\n",
       " <font face=\"Verdana\" size=\"2\">You want a fight, President Bush? Let’s finish \n",
       " \t\tthe fight with Bin Laden and Al Qaeda, thru effective, coordinated \n",
       " \t\tintelligence, and a shutting down of the financial networks that support \n",
       " \t\tterrorism, and a homeland security program that involves more than \n",
       " \t\tcolor-coded warnings.</font>,\n",
       " <font face=\"Verdana\" size=\"2\">You want a fight, President Bush? Let’s fight to \n",
       " \t\tmake sure that the UN inspectors can do their work, and that we \n",
       " \t\tvigorously enforce a non-proliferation treaty, and that former enemies \n",
       " \t\tand current allies like Russia safeguard and ultimately eliminate their \n",
       " \t\tstores of nuclear material, and that nations like Pakistan and India \n",
       " \t\tnever use the terrible weapons in already in their possession, and that \n",
       " \t\tthe arms merchants in our own country stop feeding the countless wars \n",
       " \t\tthat rage across the globe.</font>,\n",
       " <font face=\"Verdana\" size=\"2\">You want a fight, President Bush? Let’s fight to \n",
       " \t\tmake sure our so-called allies in the Middle East, the Saudis and the \n",
       " \t\tEgyptians, stop oppressing their own people, and suppressing dissent, \n",
       " \t\tand tolerating corruption and inequality, and mismanaging their \n",
       " \t\teconomies so that their youth grow up without education, without \n",
       " \t\tprospects, without hope, the ready recruits of terrorist cells.</font>,\n",
       " <font face=\"Verdana\" size=\"2\">You want a fight, President Bush? Let’s fight to \n",
       " \t\twean ourselves off Middle East oil, through an energy policy that \n",
       " \t\tdoesn’t simply serve the interests of Exxon and Mobil.</font>,\n",
       " <font face=\"Verdana\" size=\"2\">Those are the battles that we need to fight. \n",
       " \t\tThose are the battles that we willingly join. The battles against \n",
       " \t\tignorance and intolerance. Corruption and greed. Poverty and despair.</font>,\n",
       " <font face=\"Verdana\" size=\"2\">The consequences of war are dire, the sacrifices \n",
       " \t\timmeasurable. We may have occasion in our lifetime to once again rise up \n",
       " \t\tin defense of our freedom, and pay the wages of war. But we ought not -- \n",
       " \t\twe will not -- travel down that hellish path blindly. Nor should we allow \n",
       " \t\tthose who would march off and pay the ultimate sacrifice, who would \n",
       " \t\tprove the full measure of devotion with their blood, to make such an \n",
       " \t\tawful sacrifice in vain.</font>]"
      ]
     },
     "execution_count": 56,
     "metadata": {},
     "output_type": "execute_result"
    }
   ],
   "source": [
    "get_speech_content(full_urls[0])"
   ]
  },
  {
   "cell_type": "code",
   "execution_count": null,
   "metadata": {
    "collapsed": true
   },
   "outputs": [],
   "source": []
  },
  {
   "cell_type": "code",
   "execution_count": 5,
   "metadata": {
    "collapsed": true
   },
   "outputs": [],
   "source": [
    "def get_speech_content(url):\n",
    "    re = requests.get(url)\n",
    "    time.sleep(5 + random.random() * 10)\n",
    "    page_data = BeautifulSoup(re.content, features='lxml')\n",
    "    # Search the page for only content in Verdana font, \n",
    "    # since that appears to be what all the speech text is written in\n",
    "    speech_data = page_data.find_all(\"font\", {\"face\": \"Verdana\"})\n",
    "    return speech_data\n",
    "\n",
    "# Write into MongoDB\n",
    "obamongo = MongoClient()\n",
    "obama_db = obamongo['obama_db']\n",
    "speech_collection = obama_db['speeches']"
   ]
  },
  {
   "cell_type": "code",
   "execution_count": 7,
   "metadata": {
    "collapsed": true
   },
   "outputs": [],
   "source": [
    "v hb , hgnb \n",
    "\n",
    "#test_urls = full_urls[:2]\n",
    "#compile_collection(test_urls)"
   ]
  },
  {
   "cell_type": "code",
   "execution_count": 9,
   "metadata": {
    "collapsed": true
   },
   "outputs": [],
   "source": [
    "speech0 = get_speech_content(full_urls[0])"
   ]
  },
  {
   "cell_type": "code",
   "execution_count": 11,
   "metadata": {
    "collapsed": true
   },
   "outputs": [],
   "source": [
    "name0 = full_urls[0].split('/')[-1].split('.')[0]"
   ]
  },
  {
   "cell_type": "code",
   "execution_count": 15,
   "metadata": {},
   "outputs": [
    {
     "ename": "ValueError",
     "evalue": "dictionary update sequence element #0 has length 1; 2 is required",
     "output_type": "error",
     "traceback": [
      "\u001b[0;31m---------------------------------------------------------------------------\u001b[0m",
      "\u001b[0;31mValueError\u001b[0m                                Traceback (most recent call last)",
      "\u001b[0;32m<ipython-input-15-d108bd6517da>\u001b[0m in \u001b[0;36m<module>\u001b[0;34m()\u001b[0m\n\u001b[0;32m----> 1\u001b[0;31m \u001b[0mspeech_collection\u001b[0m\u001b[0;34m.\u001b[0m\u001b[0minsert_one\u001b[0m\u001b[0;34m(\u001b[0m\u001b[0;34m{\u001b[0m\u001b[0;34m'name'\u001b[0m\u001b[0;34m:\u001b[0m \u001b[0mname0\u001b[0m\u001b[0;34m,\u001b[0m \u001b[0;34m'speech'\u001b[0m\u001b[0;34m:\u001b[0m \u001b[0mdict\u001b[0m\u001b[0;34m(\u001b[0m\u001b[0mspeech0\u001b[0m\u001b[0;34m)\u001b[0m\u001b[0;34m}\u001b[0m\u001b[0;34m)\u001b[0m\u001b[0;34m\u001b[0m\u001b[0m\n\u001b[0m",
      "\u001b[0;31mValueError\u001b[0m: dictionary update sequence element #0 has length 1; 2 is required"
     ]
    }
   ],
   "source": [
    "speech_collection.insert_one({'name': name0, 'speech': speech0})"
   ]
  },
  {
   "cell_type": "code",
   "execution_count": 51,
   "metadata": {},
   "outputs": [
    {
     "ename": "TypeError",
     "evalue": "expected string or bytes-like object",
     "output_type": "error",
     "traceback": [
      "\u001b[0;31m---------------------------------------------------------------------------\u001b[0m",
      "\u001b[0;31mTypeError\u001b[0m                                 Traceback (most recent call last)",
      "\u001b[0;32m<ipython-input-51-1eb3d4bfd62e>\u001b[0m in \u001b[0;36m<module>\u001b[0;34m()\u001b[0m\n\u001b[0;32m----> 1\u001b[0;31m \u001b[0msoupy\u001b[0m \u001b[0;34m=\u001b[0m \u001b[0mBeautifulSoup\u001b[0m\u001b[0;34m(\u001b[0m\u001b[0mspeech0\u001b[0m\u001b[0;34m)\u001b[0m\u001b[0;34m\u001b[0m\u001b[0m\n\u001b[0m",
      "\u001b[0;32m/Users/gnishimura/anaconda/lib/python3.6/site-packages/bs4/__init__.py\u001b[0m in \u001b[0;36m__init__\u001b[0;34m(self, markup, features, builder, parse_only, from_encoding, exclude_encodings, **kwargs)\u001b[0m\n\u001b[1;32m    277\u001b[0m          \u001b[0mself\u001b[0m\u001b[0;34m.\u001b[0m\u001b[0mcontains_replacement_characters\u001b[0m\u001b[0;34m)\u001b[0m \u001b[0;32min\u001b[0m \u001b[0;34m(\u001b[0m\u001b[0;34m\u001b[0m\u001b[0m\n\u001b[1;32m    278\u001b[0m              self.builder.prepare_markup(\n\u001b[0;32m--> 279\u001b[0;31m                  markup, from_encoding, exclude_encodings=exclude_encodings)):\n\u001b[0m\u001b[1;32m    280\u001b[0m             \u001b[0mself\u001b[0m\u001b[0;34m.\u001b[0m\u001b[0mreset\u001b[0m\u001b[0;34m(\u001b[0m\u001b[0;34m)\u001b[0m\u001b[0;34m\u001b[0m\u001b[0m\n\u001b[1;32m    281\u001b[0m             \u001b[0;32mtry\u001b[0m\u001b[0;34m:\u001b[0m\u001b[0;34m\u001b[0m\u001b[0m\n",
      "\u001b[0;32m/Users/gnishimura/anaconda/lib/python3.6/site-packages/bs4/builder/_lxml.py\u001b[0m in \u001b[0;36mprepare_markup\u001b[0;34m(self, markup, user_specified_encoding, exclude_encodings, document_declared_encoding)\u001b[0m\n\u001b[1;32m    120\u001b[0m         detector = EncodingDetector(\n\u001b[1;32m    121\u001b[0m             markup, try_encodings, is_html, exclude_encodings)\n\u001b[0;32m--> 122\u001b[0;31m         \u001b[0;32mfor\u001b[0m \u001b[0mencoding\u001b[0m \u001b[0;32min\u001b[0m \u001b[0mdetector\u001b[0m\u001b[0;34m.\u001b[0m\u001b[0mencodings\u001b[0m\u001b[0;34m:\u001b[0m\u001b[0;34m\u001b[0m\u001b[0m\n\u001b[0m\u001b[1;32m    123\u001b[0m             \u001b[0;32myield\u001b[0m \u001b[0;34m(\u001b[0m\u001b[0mdetector\u001b[0m\u001b[0;34m.\u001b[0m\u001b[0mmarkup\u001b[0m\u001b[0;34m,\u001b[0m \u001b[0mencoding\u001b[0m\u001b[0;34m,\u001b[0m \u001b[0mdocument_declared_encoding\u001b[0m\u001b[0;34m,\u001b[0m \u001b[0;32mFalse\u001b[0m\u001b[0;34m)\u001b[0m\u001b[0;34m\u001b[0m\u001b[0m\n\u001b[1;32m    124\u001b[0m \u001b[0;34m\u001b[0m\u001b[0m\n",
      "\u001b[0;32m/Users/gnishimura/anaconda/lib/python3.6/site-packages/bs4/dammit.py\u001b[0m in \u001b[0;36mencodings\u001b[0;34m(self)\u001b[0m\n\u001b[1;32m    255\u001b[0m         \u001b[0;32mif\u001b[0m \u001b[0mself\u001b[0m\u001b[0;34m.\u001b[0m\u001b[0mdeclared_encoding\u001b[0m \u001b[0;32mis\u001b[0m \u001b[0;32mNone\u001b[0m\u001b[0;34m:\u001b[0m\u001b[0;34m\u001b[0m\u001b[0m\n\u001b[1;32m    256\u001b[0m             self.declared_encoding = self.find_declared_encoding(\n\u001b[0;32m--> 257\u001b[0;31m                 self.markup, self.is_html)\n\u001b[0m\u001b[1;32m    258\u001b[0m         \u001b[0;32mif\u001b[0m \u001b[0mself\u001b[0m\u001b[0;34m.\u001b[0m\u001b[0m_usable\u001b[0m\u001b[0;34m(\u001b[0m\u001b[0mself\u001b[0m\u001b[0;34m.\u001b[0m\u001b[0mdeclared_encoding\u001b[0m\u001b[0;34m,\u001b[0m \u001b[0mtried\u001b[0m\u001b[0;34m)\u001b[0m\u001b[0;34m:\u001b[0m\u001b[0;34m\u001b[0m\u001b[0m\n\u001b[1;32m    259\u001b[0m             \u001b[0;32myield\u001b[0m \u001b[0mself\u001b[0m\u001b[0;34m.\u001b[0m\u001b[0mdeclared_encoding\u001b[0m\u001b[0;34m\u001b[0m\u001b[0m\n",
      "\u001b[0;32m/Users/gnishimura/anaconda/lib/python3.6/site-packages/bs4/dammit.py\u001b[0m in \u001b[0;36mfind_declared_encoding\u001b[0;34m(cls, markup, is_html, search_entire_document)\u001b[0m\n\u001b[1;32m    313\u001b[0m \u001b[0;34m\u001b[0m\u001b[0m\n\u001b[1;32m    314\u001b[0m         \u001b[0mdeclared_encoding\u001b[0m \u001b[0;34m=\u001b[0m \u001b[0;32mNone\u001b[0m\u001b[0;34m\u001b[0m\u001b[0m\n\u001b[0;32m--> 315\u001b[0;31m         \u001b[0mdeclared_encoding_match\u001b[0m \u001b[0;34m=\u001b[0m \u001b[0mxml_encoding_re\u001b[0m\u001b[0;34m.\u001b[0m\u001b[0msearch\u001b[0m\u001b[0;34m(\u001b[0m\u001b[0mmarkup\u001b[0m\u001b[0;34m,\u001b[0m \u001b[0mendpos\u001b[0m\u001b[0;34m=\u001b[0m\u001b[0mxml_endpos\u001b[0m\u001b[0;34m)\u001b[0m\u001b[0;34m\u001b[0m\u001b[0m\n\u001b[0m\u001b[1;32m    316\u001b[0m         \u001b[0;32mif\u001b[0m \u001b[0;32mnot\u001b[0m \u001b[0mdeclared_encoding_match\u001b[0m \u001b[0;32mand\u001b[0m \u001b[0mis_html\u001b[0m\u001b[0;34m:\u001b[0m\u001b[0;34m\u001b[0m\u001b[0m\n\u001b[1;32m    317\u001b[0m             \u001b[0mdeclared_encoding_match\u001b[0m \u001b[0;34m=\u001b[0m \u001b[0mhtml_meta_re\u001b[0m\u001b[0;34m.\u001b[0m\u001b[0msearch\u001b[0m\u001b[0;34m(\u001b[0m\u001b[0mmarkup\u001b[0m\u001b[0;34m,\u001b[0m \u001b[0mendpos\u001b[0m\u001b[0;34m=\u001b[0m\u001b[0mhtml_endpos\u001b[0m\u001b[0;34m)\u001b[0m\u001b[0;34m\u001b[0m\u001b[0m\n",
      "\u001b[0;31mTypeError\u001b[0m: expected string or bytes-like object"
     ]
    }
   ],
   "source": [
    "soupy = BeautifulSoup(speech0)"
   ]
  },
  {
   "cell_type": "code",
   "execution_count": 59,
   "metadata": {},
   "outputs": [
    {
     "data": {
      "text/plain": [
       "'[Good afternoon. Let begin by saying that \\r\\n\\t\\talthough this has been billed as an anti-war rally, I stand before you \\r\\n\\t\\tas someone who is not opposed to war in all circumstances., The Civil War was one of the bloodiest in \\r\\n\\t\\thistory, and yet it was only through the crucible of the sword, the \\r\\n\\t\\tsacrifice of multitudes, that we could begin to perfect this union, and \\r\\n\\t\\tdrive the scourge of slavery from our soil., I don’t oppose all wars., My grandfather signed up for a war the day after \\r\\n\\t\\tPearl Harbor was bombed, fought in Patton’s army. He saw the dead and \\r\\n\\t\\tdying across the fields of Europe; he heard the stories of fellow troops \\r\\n\\t\\twho first entered Auschwitz and Treblinka. He fought in the name of a \\r\\n\\t\\tlarger freedom, part of that arsenal of democracy that triumphed over \\r\\n\\t\\tevil, and he did not fight in vain., I don’t oppose all wars., After September 11th, after witnessing the \\r\\n\\t\\tcarnage and destruction, the dust and the tears, I supported this \\r\\n\\t\\tAdministration’s pledge to hunt down and root out those who would \\r\\n\\t\\tslaughter innocents in the name of intolerance, and I would willingly \\r\\n\\t\\ttake up arms myself to prevent such tragedy from happening again., I don’t oppose war in all \\r\\n\\t\\tcircumstances, and when I look out over this crowd today, I know there is no shortage of patriots or patriotism. What I \\r\\n\\t\\tdo oppose is a dumb war. What I am \\r\\n\\t\\topposed to is a rash war. What I am opposed to is the cynical attempt by \\r\\n\\t\\tRichard Perles and Paul Wolfowitz and other arm-chair, weekend warriors \\r\\n\\t\\tin this Administration to shove their own ideological agendas down our \\r\\n\\t\\tthroats, irrespective of the costs in lives lost and in hardships borne., What I am opposed to is the attempt by political \\r\\n\\t\\thacks like Karl Roves to distract us from a rise in the uninsured, a \\r\\n\\t\\trise in the poverty rate, a drop in the median income -- to distract us \\r\\n\\t\\tfrom corporate scandals and a stock market that has just gone thru the \\r\\n\\t\\tworst month since the Great Depression., That’s what I’m opposed to. A dumb war. A rash \\r\\n\\t\\twar. A war based not on reason but on passion, not on principle but on \\r\\n\\t\\tpolitics., Now let me be clear -- I suffer no illusions \\r\\n\\t\\tabout Saddam Hussein. He is a brutal man. A ruthless man. A man who \\r\\n\\t\\tbutchers his own people to secure his own power. He has repeatedly \\r\\n\\t\\tdefied UN resolutions, thwarted UN inspection teams, developed chemical \\r\\n\\t\\tand biological weapons, and coveted nuclear capacity., He’s a bad guy. The world, and the Iraqi people, \\r\\n\\t\\twould be better off without him., But I also know that Saddam poses no imminent \\r\\n\\t\\tand direct threat to the United States, or to his neighbors, that the \\r\\n\\t\\tIraqi economy is in shambles, that the Iraqi military a fraction of its \\r\\n\\t\\tformer strength, and that in concert with the international community he \\r\\n\\t\\tcan be contained until, in the way of all petty dictators, he falls away \\r\\n\\t\\tinto the dustbin of history., I know that even a successful war against Iraq \\r\\n\\t\\twill require a US occupation of undetermined length, at undetermined \\r\\n\\t\\tcost, with undetermined consequences., I know that an invasion of Iraq without a clear \\r\\n\\t\\trationale and without strong international support will only fan the \\r\\n\\t\\tflames of the middle east, and encourage the worst, rather than best, \\r\\n\\t\\timpulses of the Arab world, and strengthen the recruitment arm of Al \\r\\n\\t\\tQaeda., I am not opposed to all wars. I’m opposed to \\r\\n\\t\\tdumb wars., So for those of us who seek a more just and \\r\\n\\t\\tsecure world for our children, let us send a clear message to the \\r\\n\\t\\tpresident today., You want a fight, President Bush? Let’s finish \\r\\n\\t\\tthe fight with Bin Laden and Al Qaeda, thru effective, coordinated \\r\\n\\t\\tintelligence, and a shutting down of the financial networks that support \\r\\n\\t\\tterrorism, and a homeland security program that involves more than \\r\\n\\t\\tcolor-coded warnings., You want a fight, President Bush? Let’s fight to \\r\\n\\t\\tmake sure that the UN inspectors can do their work, and that we \\r\\n\\t\\tvigorously enforce a non-proliferation treaty, and that former enemies \\r\\n\\t\\tand current allies like Russia safeguard and ultimately eliminate their \\r\\n\\t\\tstores of nuclear material, and that nations like Pakistan and India \\r\\n\\t\\tnever use the terrible weapons in already in their possession, and that \\r\\n\\t\\tthe arms merchants in our own country stop feeding the countless wars \\r\\n\\t\\tthat rage across the globe., You want a fight, President Bush? Let’s fight to \\r\\n\\t\\tmake sure our so-called allies in the Middle East, the Saudis and the \\r\\n\\t\\tEgyptians, stop oppressing their own people, and suppressing dissent, \\r\\n\\t\\tand tolerating corruption and inequality, and mismanaging their \\r\\n\\t\\teconomies so that their youth grow up without education, without \\r\\n\\t\\tprospects, without hope, the ready recruits of terrorist cells., You want a fight, President Bush? Let’s fight to \\r\\n\\t\\twean ourselves off Middle East oil, through an energy policy that \\r\\n\\t\\tdoesn’t simply serve the interests of Exxon and Mobil., Those are the battles that we need to fight. \\r\\n\\t\\tThose are the battles that we willingly join. The battles against \\r\\n\\t\\tignorance and intolerance. Corruption and greed. Poverty and despair., The consequences of war are dire, the sacrifices \\r\\n\\t\\timmeasurable. We may have occasion in our lifetime to once again rise up \\r\\n\\t\\tin defense of our freedom, and pay the wages of war. But we ought not -- \\r\\n\\t\\twe will not -- travel down that hellish path blindly. Nor should we allow \\r\\n\\t\\tthose who would march off and pay the ultimate sacrifice, who would \\r\\n\\t\\tprove the full measure of devotion with their blood, to make such an \\r\\n\\t\\tawful sacrifice in vain.]'"
      ]
     },
     "execution_count": 59,
     "metadata": {},
     "output_type": "execute_result"
    }
   ],
   "source": []
  },
  {
   "cell_type": "code",
   "execution_count": 47,
   "metadata": {
    "collapsed": true
   },
   "outputs": [],
   "source": [
    "y = [list(word) for word in speech0]"
   ]
  },
  {
   "cell_type": "code",
   "execution_count": null,
   "metadata": {
    "collapsed": true
   },
   "outputs": [],
   "source": []
  },
  {
   "cell_type": "code",
   "execution_count": 48,
   "metadata": {},
   "outputs": [
    {
     "data": {
      "text/plain": [
       "[['Good afternoon. Let begin by saying that \\r\\n\\t\\talthough this has been billed as an anti-war rally, I stand before you \\r\\n\\t\\tas someone who is not opposed to war in all circumstances.'],\n",
       " ['The Civil War was one of the bloodiest in \\r\\n\\t\\thistory, and yet it was only through the crucible of the sword, the \\r\\n\\t\\tsacrifice of multitudes, that we could begin to perfect this union, and \\r\\n\\t\\tdrive the scourge of slavery from our soil.'],\n",
       " ['I don’t oppose all wars.'],\n",
       " ['My grandfather signed up for a war the day after \\r\\n\\t\\tPearl Harbor was bombed, fought in Patton’s army. He saw the dead and \\r\\n\\t\\tdying across the fields of Europe; he heard the stories of fellow troops \\r\\n\\t\\twho first entered Auschwitz and Treblinka. He fought in the name of a \\r\\n\\t\\tlarger freedom, part of that arsenal of democracy that triumphed over \\r\\n\\t\\tevil, and he did not fight in vain.'],\n",
       " ['I don’t oppose all wars.'],\n",
       " ['After September 11th, after witnessing the \\r\\n\\t\\tcarnage and destruction, the dust and the tears, I supported this \\r\\n\\t\\tAdministration’s pledge to hunt down and root out those who would \\r\\n\\t\\tslaughter innocents in the name of intolerance, and I would willingly \\r\\n\\t\\ttake up arms myself to prevent such tragedy from happening again.'],\n",
       " ['I don’t oppose war in all \\r\\n\\t\\tcircumstances, and when I look out over this crowd today, I know there is no shortage of patriots or patriotism. What I \\r\\n\\t\\tdo oppose is a dumb war. What I am \\r\\n\\t\\topposed to is a rash war. What I am opposed to is the cynical attempt by \\r\\n\\t\\tRichard Perles and Paul Wolfowitz and other arm-chair, weekend warriors \\r\\n\\t\\tin this Administration to shove their own ideological agendas down our \\r\\n\\t\\tthroats, irrespective of the costs in lives lost and in hardships borne.'],\n",
       " ['What I am opposed to is the attempt by political \\r\\n\\t\\thacks like Karl Roves to distract us from a rise in the uninsured, a \\r\\n\\t\\trise in the poverty rate, a drop in the median income -- to distract us \\r\\n\\t\\tfrom corporate scandals and a stock market that has just gone thru the \\r\\n\\t\\tworst month since the Great Depression.'],\n",
       " ['That’s what I’m opposed to. A dumb war. A rash \\r\\n\\t\\twar. A war based not on reason but on passion, not on principle but on \\r\\n\\t\\tpolitics.'],\n",
       " ['Now let me be clear -- I suffer no illusions \\r\\n\\t\\tabout Saddam Hussein. He is a brutal man. A ruthless man. A man who \\r\\n\\t\\tbutchers his own people to secure his own power. He has repeatedly \\r\\n\\t\\tdefied UN resolutions, thwarted UN inspection teams, developed chemical \\r\\n\\t\\tand biological weapons, and coveted nuclear capacity.'],\n",
       " ['He’s a bad guy. The world, and the Iraqi people, \\r\\n\\t\\twould be better off without him.'],\n",
       " ['But I also know that Saddam poses no imminent \\r\\n\\t\\tand direct threat to the United States, or to his neighbors, that the \\r\\n\\t\\tIraqi economy is in shambles, that the Iraqi military a fraction of its \\r\\n\\t\\tformer strength, and that in concert with the international community he \\r\\n\\t\\tcan be contained until, in the way of all petty dictators, he falls away \\r\\n\\t\\tinto the dustbin of history.'],\n",
       " ['I know that even a successful war against Iraq \\r\\n\\t\\twill require a US occupation of undetermined length, at undetermined \\r\\n\\t\\tcost, with undetermined consequences.'],\n",
       " ['I know that an invasion of Iraq without a clear \\r\\n\\t\\trationale and without strong international support will only fan the \\r\\n\\t\\tflames of the middle east, and encourage the worst, rather than best, \\r\\n\\t\\timpulses of the Arab world, and strengthen the recruitment arm of Al \\r\\n\\t\\tQaeda.'],\n",
       " ['I am not opposed to all wars. I’m opposed to \\r\\n\\t\\tdumb wars.'],\n",
       " ['So for those of us who seek a more just and \\r\\n\\t\\tsecure world for our children, let us send a clear message to the \\r\\n\\t\\tpresident today.'],\n",
       " ['You want a fight, President Bush? Let’s finish \\r\\n\\t\\tthe fight with Bin Laden and Al Qaeda, thru effective, coordinated \\r\\n\\t\\tintelligence, and a shutting down of the financial networks that support \\r\\n\\t\\tterrorism, and a homeland security program that involves more than \\r\\n\\t\\tcolor-coded warnings.'],\n",
       " ['You want a fight, President Bush? Let’s fight to \\r\\n\\t\\tmake sure that the UN inspectors can do their work, and that we \\r\\n\\t\\tvigorously enforce a non-proliferation treaty, and that former enemies \\r\\n\\t\\tand current allies like Russia safeguard and ultimately eliminate their \\r\\n\\t\\tstores of nuclear material, and that nations like Pakistan and India \\r\\n\\t\\tnever use the terrible weapons in already in their possession, and that \\r\\n\\t\\tthe arms merchants in our own country stop feeding the countless wars \\r\\n\\t\\tthat rage across the globe.'],\n",
       " ['You want a fight, President Bush? Let’s fight to \\r\\n\\t\\tmake sure our so-called allies in the Middle East, the Saudis and the \\r\\n\\t\\tEgyptians, stop oppressing their own people, and suppressing dissent, \\r\\n\\t\\tand tolerating corruption and inequality, and mismanaging their \\r\\n\\t\\teconomies so that their youth grow up without education, without \\r\\n\\t\\tprospects, without hope, the ready recruits of terrorist cells.'],\n",
       " ['You want a fight, President Bush? Let’s fight to \\r\\n\\t\\twean ourselves off Middle East oil, through an energy policy that \\r\\n\\t\\tdoesn’t simply serve the interests of Exxon and Mobil.'],\n",
       " ['Those are the battles that we need to fight. \\r\\n\\t\\tThose are the battles that we willingly join. The battles against \\r\\n\\t\\tignorance and intolerance. Corruption and greed. Poverty and despair.'],\n",
       " ['The consequences of war are dire, the sacrifices \\r\\n\\t\\timmeasurable. We may have occasion in our lifetime to once again rise up \\r\\n\\t\\tin defense of our freedom, and pay the wages of war. But we ought not -- \\r\\n\\t\\twe will not -- travel down that hellish path blindly. Nor should we allow \\r\\n\\t\\tthose who would march off and pay the ultimate sacrifice, who would \\r\\n\\t\\tprove the full measure of devotion with their blood, to make such an \\r\\n\\t\\tawful sacrifice in vain.']]"
      ]
     },
     "execution_count": 48,
     "metadata": {},
     "output_type": "execute_result"
    }
   ],
   "source": [
    "y"
   ]
  },
  {
   "cell_type": "code",
   "execution_count": null,
   "metadata": {
    "collapsed": true
   },
   "outputs": [],
   "source": []
  }
 ],
 "metadata": {
  "kernelspec": {
   "display_name": "Python 3",
   "language": "python",
   "name": "python3"
  },
  "language_info": {
   "codemirror_mode": {
    "name": "ipython",
    "version": 3
   },
   "file_extension": ".py",
   "mimetype": "text/x-python",
   "name": "python",
   "nbconvert_exporter": "python",
   "pygments_lexer": "ipython3",
   "version": "3.6.8"
  }
 },
 "nbformat": 4,
 "nbformat_minor": 2
}
